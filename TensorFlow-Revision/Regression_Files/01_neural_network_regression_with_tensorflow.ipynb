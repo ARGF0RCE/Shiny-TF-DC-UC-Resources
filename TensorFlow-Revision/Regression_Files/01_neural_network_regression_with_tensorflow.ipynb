{
  "cells": [
    {
      "cell_type": "markdown",
      "metadata": {
        "id": "view-in-github",
        "colab_type": "text"
      },
      "source": [
        "<a href=\"https://colab.research.google.com/github/ARGF0RCE/Shiny-TF-DC-UC-Resources/blob/main/01_neural_network_regression_with_tensorflow.ipynb\" target=\"_parent\"><img src=\"https://colab.research.google.com/assets/colab-badge.svg\" alt=\"Open In Colab\"/></a>"
      ]
    },
    {
      "cell_type": "markdown",
      "id": "424a7f68-7772-4d46-b6a3-6ba9360bad75",
      "metadata": {
        "id": "424a7f68-7772-4d46-b6a3-6ba9360bad75"
      },
      "source": [
        "# Introduction to Regression with Neural Networks in TensorFlow\n",
        "\n",
        "There are many definitions for a regression problem but in our case, we're going to simplify it: predicting a numerical variable based on some other combination of variables, even shorter... *predicting a number*."
      ]
    },
    {
      "cell_type": "code",
      "execution_count": 1,
      "id": "f7fd61e0-ce69-4980-bb61-ff94f3c9afe2",
      "metadata": {
        "colab": {
          "base_uri": "https://localhost:8080/"
        },
        "id": "f7fd61e0-ce69-4980-bb61-ff94f3c9afe2",
        "outputId": "7e221daa-3c8d-434a-bf42-54bba3b99d1c"
      },
      "outputs": [
        {
          "output_type": "stream",
          "name": "stdout",
          "text": [
            "2.7.0\n"
          ]
        }
      ],
      "source": [
        "## Import Tensorflow\n",
        "import tensorflow as tf\n",
        "print(tf.__version__)"
      ]
    },
    {
      "cell_type": "code",
      "source": [
        "tf.config.list_physical_devices()"
      ],
      "metadata": {
        "id": "HYtBQU5fvauY",
        "outputId": "d2ff3ec8-6d5b-4dba-d4c9-0cdd7864a508",
        "colab": {
          "base_uri": "https://localhost:8080/"
        }
      },
      "id": "HYtBQU5fvauY",
      "execution_count": 2,
      "outputs": [
        {
          "output_type": "execute_result",
          "data": {
            "text/plain": [
              "[PhysicalDevice(name='/physical_device:CPU:0', device_type='CPU'),\n",
              " PhysicalDevice(name='/physical_device:GPU:0', device_type='GPU')]"
            ]
          },
          "metadata": {},
          "execution_count": 2
        }
      ]
    },
    {
      "cell_type": "code",
      "source": [
        "!nvidia-smi -L"
      ],
      "metadata": {
        "id": "uitU6Vb2viiN",
        "outputId": "f60699d6-7a4b-4fb4-9345-944d7136bbaf",
        "colab": {
          "base_uri": "https://localhost:8080/"
        }
      },
      "id": "uitU6Vb2viiN",
      "execution_count": 3,
      "outputs": [
        {
          "output_type": "stream",
          "name": "stdout",
          "text": [
            "GPU 0: NVIDIA GeForce RTX 3060 Laptop GPU (UUID: GPU-9a78f125-7401-3262-149a-8818757a31e6)\n"
          ]
        }
      ]
    },
    {
      "cell_type": "markdown",
      "id": "1054579e-d9eb-4b3c-a5cf-91f486d24eb3",
      "metadata": {
        "id": "1054579e-d9eb-4b3c-a5cf-91f486d24eb3"
      },
      "source": [
        "## Creating data to view and fit"
      ]
    },
    {
      "cell_type": "code",
      "execution_count": 4,
      "id": "43f0bafe-03dd-43d2-a7ec-4bcc51ba6fb7",
      "metadata": {
        "colab": {
          "base_uri": "https://localhost:8080/",
          "height": 269
        },
        "id": "43f0bafe-03dd-43d2-a7ec-4bcc51ba6fb7",
        "outputId": "87f44257-6eee-4904-bfd0-242312913e37"
      },
      "outputs": [
        {
          "output_type": "display_data",
          "data": {
            "text/plain": [
              "<Figure size 432x288 with 1 Axes>"
            ],
            "image/png": "[encoded data removed]"
          },
          "metadata": {
            "needs_background": "light"
          }
        }
      ],
      "source": [
        "import numpy as np\n",
        "import matplotlib.pyplot as plt\n",
        "\n",
        "# Create features\n",
        "X = np.array([-7., -4., -1., 2., 5., 8., 11., 14.])\n",
        "\n",
        "# Create labels\n",
        "y = np.array([3., 6., 9., 12., 15., 18., 21., 24.])\n",
        "\n",
        "# Visualize it\n",
        "plt.scatter(X, y);"
      ]
    },
    {
      "cell_type": "code",
      "execution_count": 5,
      "id": "fec8c7e6-8ecb-4921-a7d8-53617f147e5f",
      "metadata": {
        "colab": {
          "base_uri": "https://localhost:8080/"
        },
        "id": "fec8c7e6-8ecb-4921-a7d8-53617f147e5f",
        "outputId": "805161ab-a616-45ab-e3f5-af71294833e2"
      },
      "outputs": [
        {
          "output_type": "execute_result",
          "data": {
            "text/plain": [
              "array([ True,  True,  True,  True,  True,  True,  True,  True])"
            ]
          },
          "metadata": {},
          "execution_count": 5
        }
      ],
      "source": [
        "y == X + 10"
      ]
    },
    {
      "cell_type": "markdown",
      "id": "01f2568a-7f9b-4607-a2b1-c0c92fd10790",
      "metadata": {
        "id": "01f2568a-7f9b-4607-a2b1-c0c92fd10790"
      },
      "source": [
        "## Input and Output shapes"
      ]
    },
    {
      "cell_type": "code",
      "execution_count": 6,
      "id": "1c734e3d-db62-45b1-82d3-8efc776f201d",
      "metadata": {
        "colab": {
          "base_uri": "https://localhost:8080/"
        },
        "id": "1c734e3d-db62-45b1-82d3-8efc776f201d",
        "outputId": "051284c3-39a8-43af-c8aa-44be1e13b6ef"
      },
      "outputs": [
        {
          "output_type": "execute_result",
          "data": {
            "text/plain": [
              "(<tf.Tensor: shape=(1,), dtype=int32, numpy=array([939700])>,\n",
              " <tf.Tensor: shape=(3,), dtype=string, numpy=array([b'bedroom', b'bathroom', b'garage'], dtype=object)>)"
            ]
          },
          "metadata": {},
          "execution_count": 6
        }
      ],
      "source": [
        "# X.shape, y.shape\n",
        "# Create a demo tensor for our housing price prediction problem\n",
        "house_info = tf.constant([\"bedroom\", \"bathroom\", \"garage\"])\n",
        "house_price = tf.constant([939700])\n",
        "house_price, house_info"
      ]
    },
    {
      "cell_type": "code",
      "execution_count": 7,
      "id": "752057c4-07c5-4b63-8a1d-9832f4f05af4",
      "metadata": {
        "colab": {
          "base_uri": "https://localhost:8080/"
        },
        "id": "752057c4-07c5-4b63-8a1d-9832f4f05af4",
        "outputId": "f654bc15-287e-43cc-e7b8-8db13c8345e0"
      },
      "outputs": [
        {
          "output_type": "execute_result",
          "data": {
            "text/plain": [
              "((), ())"
            ]
          },
          "metadata": {},
          "execution_count": 7
        }
      ],
      "source": [
        "input_shape = X[0].shape\n",
        "output_shape = y[0].shape\n",
        "input_shape, output_shape"
      ]
    },
    {
      "cell_type": "code",
      "execution_count": 8,
      "id": "c7ae8d37-7ab2-42d2-b83b-c576715974af",
      "metadata": {
        "colab": {
          "base_uri": "https://localhost:8080/"
        },
        "id": "c7ae8d37-7ab2-42d2-b83b-c576715974af",
        "outputId": "52ca0131-f414-4c25-de30-a8ee6be2b013"
      },
      "outputs": [
        {
          "output_type": "execute_result",
          "data": {
            "text/plain": [
              "(<tf.Tensor: shape=(8,), dtype=float32, numpy=array([-7., -4., -1.,  2.,  5.,  8., 11., 14.], dtype=float32)>,\n",
              " <tf.Tensor: shape=(8,), dtype=float32, numpy=array([ 3.,  6.,  9., 12., 15., 18., 21., 24.], dtype=float32)>)"
            ]
          },
          "metadata": {},
          "execution_count": 8
        }
      ],
      "source": [
        "# Turn our NumPy arrays into Tensors with dtype float32\n",
        "X = tf.constant(X, dtype=tf.float32)\n",
        "y = tf.constant(y, dtype=tf.float32)\n",
        "X, y"
      ]
    },
    {
      "cell_type": "code",
      "execution_count": 9,
      "id": "9478ebca-ef55-4d10-8401-367f2a9af0e8",
      "metadata": {
        "colab": {
          "base_uri": "https://localhost:8080/",
          "height": 269
        },
        "id": "9478ebca-ef55-4d10-8401-367f2a9af0e8",
        "outputId": "8880e3ab-413a-4260-b256-d55a22728ebb"
      },
      "outputs": [
        {
          "output_type": "display_data",
          "data": {
            "text/plain": [
              "<Figure size 432x288 with 1 Axes>"
            ],
            "image/png": "[encoded data removed]"
          },
          "metadata": {
            "needs_background": "light"
          }
        }
      ],
      "source": [
        "plt.scatter(X, y);"
      ]
    },
    {
      "cell_type": "markdown",
      "id": "a23b844d-30e0-4ebb-b27d-0288f67ee3b1",
      "metadata": {
        "id": "a23b844d-30e0-4ebb-b27d-0288f67ee3b1"
      },
      "source": [
        "## Steps in modelling with TensorFlow\n",
        "\n",
        "1. **Creating a model** - define the input and output layers, as well as hidden layers of a deep learning model.\n",
        "2. **Compiling a model** - define the loss function, optimizer and evaluation metrics\n",
        "3. **Fitting the model** - letting the model try to find patterns between `X` & `y`."
      ]
    },
    {
      "cell_type": "code",
      "execution_count": 10,
      "id": "829a1bbd-1ada-4843-8714-3c9d2283cd05",
      "metadata": {
        "colab": {
          "base_uri": "https://localhost:8080/"
        },
        "id": "829a1bbd-1ada-4843-8714-3c9d2283cd05",
        "outputId": "0e48f569-ef65-4568-ba1b-4343fce1bbcd"
      },
      "outputs": [
        {
          "output_type": "stream",
          "name": "stdout",
          "text": [
            "Epoch 1/5\n",
            "1/1 [==============================] - 1s 1s/step - loss: 11.5048 - mae: 11.5048\n",
            "Epoch 2/5\n",
            "1/1 [==============================] - 0s 5ms/step - loss: 11.3723 - mae: 11.3723\n",
            "Epoch 3/5\n",
            "1/1 [==============================] - 0s 5ms/step - loss: 11.2398 - mae: 11.2398\n",
            "Epoch 4/5\n",
            "1/1 [==============================] - 0s 5ms/step - loss: 11.1073 - mae: 11.1073\n",
            "Epoch 5/5\n",
            "1/1 [==============================] - 0s 4ms/step - loss: 10.9748 - mae: 10.9748\n"
          ]
        },
        {
          "output_type": "execute_result",
          "data": {
            "text/plain": [
              "<keras.callbacks.History at 0x26f611f8910>"
            ]
          },
          "metadata": {},
          "execution_count": 10
        }
      ],
      "source": [
        "# Set random seed\n",
        "tf.random.set_seed(42)\n",
        "\n",
        "# 1. Create a model using the Sequential API\n",
        "model = tf.keras.Sequential([\n",
        "    tf.keras.layers.Dense(1)\n",
        "])\n",
        "\n",
        "# 2. Compile the model\n",
        "model.compile(loss=tf.keras.losses.mae, # mae is short for mean absolute error\n",
        "              optimizer=tf.keras.optimizers.SGD(), # SGD is short for stochastic gradient descent\n",
        "              metrics=['mae'])\n",
        "\n",
        "# Fit the model\n",
        "model.fit(tf.expand_dims(X, axis=-1), y, epochs=5)"
      ]
    },
    {
      "cell_type": "code",
      "execution_count": 11,
      "id": "f2635026-8434-4cc2-9411-1060cd1e42b5",
      "metadata": {
        "colab": {
          "base_uri": "https://localhost:8080/"
        },
        "id": "f2635026-8434-4cc2-9411-1060cd1e42b5",
        "outputId": "1a945beb-16c1-413c-a9d7-0cf9da327c80"
      },
      "outputs": [
        {
          "output_type": "execute_result",
          "data": {
            "text/plain": [
              "(<tf.Tensor: shape=(8,), dtype=float32, numpy=array([-7., -4., -1.,  2.,  5.,  8., 11., 14.], dtype=float32)>,\n",
              " <tf.Tensor: shape=(8,), dtype=float32, numpy=array([ 3.,  6.,  9., 12., 15., 18., 21., 24.], dtype=float32)>)"
            ]
          },
          "metadata": {},
          "execution_count": 11
        }
      ],
      "source": [
        "# Checkout X and Y\n",
        "X, y"
      ]
    },
    {
      "cell_type": "code",
      "execution_count": 12,
      "id": "9777d74f-4ff8-43e1-a3cc-d1277a96756c",
      "metadata": {
        "id": "9777d74f-4ff8-43e1-a3cc-d1277a96756c"
      },
      "outputs": [],
      "source": [
        "# Try and make a prediction using our model\n",
        "y_pred = model.predict([[17.]])"
      ]
    },
    {
      "cell_type": "code",
      "execution_count": 13,
      "id": "8336e88a-fbba-4451-b686-a3d621f03129",
      "metadata": {
        "colab": {
          "base_uri": "https://localhost:8080/"
        },
        "id": "8336e88a-fbba-4451-b686-a3d621f03129",
        "outputId": "62a3e1fa-15e6-4e42-f7c6-257174f99201"
      },
      "outputs": [
        {
          "output_type": "execute_result",
          "data": {
            "text/plain": [
              "array([[23.71602]], dtype=float32)"
            ]
          },
          "metadata": {},
          "execution_count": 13
        }
      ],
      "source": [
        "y_pred + 11"
      ]
    },
    {
      "cell_type": "markdown",
      "id": "6188ecdd-3ba5-4a55-b793-9e41661449a3",
      "metadata": {
        "id": "6188ecdd-3ba5-4a55-b793-9e41661449a3"
      },
      "source": [
        "## Improving the model\n",
        "\n",
        "We can improve the model, by altering the steps we took to create a model.\n",
        "\n",
        "1. **Creating a model** - Here we might add more layers, increase the number of hidden units, change the activation function of each layer.\n",
        "2. **Compiling a model** - here we might change the optimization function or perhaps the *learning rate* of the optimization function.\n",
        "3. **Fitting a model** - here we might fit a model for more *epochs* or on *more data*."
      ]
    },
    {
      "cell_type": "code",
      "source": [
        "# Let's build rebuild our model\n",
        "tf.random.set_seed(42)\n",
        "\n",
        "# 1. Create the model\n",
        "model = tf.keras.Sequential([\n",
        "    tf.keras.layers.Dense(1)\n",
        "])\n",
        "\n",
        "# 2. Compile the model\n",
        "model.compile(loss=tf.keras.losses.mae,\n",
        "              optimizer=tf.keras.optimizers.SGD(),\n",
        "              metrics=[\"mae\"])\n",
        "\n",
        "# 3. Fit the model\n",
        "model.fit(tf.expand_dims(X, axis=-1), y, epochs=100)"
      ],
      "metadata": {
        "colab": {
          "base_uri": "https://localhost:8080/"
        },
        "id": "eSLsAQnc55Wz",
        "outputId": "1b115f5c-28d6-4118-eb47-ab162c8aaa16"
      },
      "id": "eSLsAQnc55Wz",
      "execution_count": 14,
      "outputs": [
        {
          "output_type": "stream",
          "name": "stdout",
          "text": [
            "Epoch 1/100\n",
            "1/1 [==============================] - 0s 179ms/step - loss: 11.5048 - mae: 11.5048\n",
            "Epoch 2/100\n",
            "1/1 [==============================] - 0s 4ms/step - loss: 11.3723 - mae: 11.3723\n",
            "Epoch 3/100\n",
            "1/1 [==============================] - 0s 6ms/step - loss: 11.2398 - mae: 11.2398\n",
            "Epoch 4/100\n",
            "1/1 [==============================] - 0s 5ms/step - loss: 11.1073 - mae: 11.1073\n",
            "Epoch 5/100\n",
            "1/1 [==============================] - 0s 4ms/step - loss: 10.9748 - mae: 10.9748\n",
            "Epoch 6/100\n",
            "1/1 [==============================] - 0s 4ms/step - loss: 10.8423 - mae: 10.8423\n",
            "Epoch 7/100\n",
            "1/1 [==============================] - 0s 5ms/step - loss: 10.7098 - mae: 10.7098\n",
            "Epoch 8/100\n",
            "1/1 [==============================] - 0s 6ms/step - loss: 10.5773 - mae: 10.5773\n",
            "Epoch 9/100\n",
            "1/1 [==============================] - 0s 3ms/step - loss: 10.4448 - mae: 10.4448\n",
            "Epoch 10/100\n",
            "1/1 [==============================] - 0s 7ms/step - loss: 10.3123 - mae: 10.3123\n",
            "Epoch 11/100\n",
            "1/1 [==============================] - 0s 6ms/step - loss: 10.1798 - mae: 10.1798\n",
            "Epoch 12/100\n",
            "1/1 [==============================] - 0s 5ms/step - loss: 10.0473 - mae: 10.0473\n",
            "Epoch 13/100\n",
            "1/1 [==============================] - 0s 6ms/step - loss: 9.9148 - mae: 9.9148\n",
            "Epoch 14/100\n",
            "1/1 [==============================] - 0s 5ms/step - loss: 9.7823 - mae: 9.7823\n",
            "Epoch 15/100\n",
            "1/1 [==============================] - 0s 6ms/step - loss: 9.6498 - mae: 9.6498\n",
            "Epoch 16/100\n",
            "1/1 [==============================] - 0s 5ms/step - loss: 9.5173 - mae: 9.5173\n",
            "Epoch 17/100\n",
            "1/1 [==============================] - 0s 6ms/step - loss: 9.3848 - mae: 9.3848\n",
            "Epoch 18/100\n",
            "1/1 [==============================] - 0s 5ms/step - loss: 9.2523 - mae: 9.2523\n",
            "Epoch 19/100\n",
            "1/1 [==============================] - 0s 5ms/step - loss: 9.1198 - mae: 9.1198\n",
            "Epoch 20/100\n",
            "1/1 [==============================] - 0s 5ms/step - loss: 8.9873 - mae: 8.9873\n",
            "Epoch 21/100\n",
            "1/1 [==============================] - 0s 4ms/step - loss: 8.8548 - mae: 8.8548\n",
            "Epoch 22/100\n",
            "1/1 [==============================] - 0s 4ms/step - loss: 8.7223 - mae: 8.7223\n",
            "Epoch 23/100\n",
            "1/1 [==============================] - 0s 5ms/step - loss: 8.5898 - mae: 8.5898\n",
            "Epoch 24/100\n",
            "1/1 [==============================] - 0s 5ms/step - loss: 8.4573 - mae: 8.4573\n",
            "Epoch 25/100\n",
            "1/1 [==============================] - 0s 5ms/step - loss: 8.3248 - mae: 8.3248\n",
            "Epoch 26/100\n",
            "1/1 [==============================] - 0s 5ms/step - loss: 8.1923 - mae: 8.1923\n",
            "Epoch 27/100\n",
            "1/1 [==============================] - 0s 8ms/step - loss: 8.0598 - mae: 8.0598\n",
            "Epoch 28/100\n",
            "1/1 [==============================] - 0s 8ms/step - loss: 7.9273 - mae: 7.9273\n",
            "Epoch 29/100\n",
            "1/1 [==============================] - 0s 8ms/step - loss: 7.7948 - mae: 7.7948\n",
            "Epoch 30/100\n",
            "1/1 [==============================] - 0s 11ms/step - loss: 7.6623 - mae: 7.6623\n",
            "Epoch 31/100\n",
            "1/1 [==============================] - 0s 10ms/step - loss: 7.5298 - mae: 7.5298\n",
            "Epoch 32/100\n",
            "1/1 [==============================] - 0s 8ms/step - loss: 7.3973 - mae: 7.3973\n",
            "Epoch 33/100\n",
            "1/1 [==============================] - 0s 10ms/step - loss: 7.2648 - mae: 7.2648\n",
            "Epoch 34/100\n",
            "1/1 [==============================] - 0s 9ms/step - loss: 7.2525 - mae: 7.2525\n",
            "Epoch 35/100\n",
            "1/1 [==============================] - 0s 5ms/step - loss: 7.2469 - mae: 7.2469\n",
            "Epoch 36/100\n",
            "1/1 [==============================] - 0s 5ms/step - loss: 7.2413 - mae: 7.2413\n",
            "Epoch 37/100\n",
            "1/1 [==============================] - 0s 7ms/step - loss: 7.2356 - mae: 7.2356\n",
            "Epoch 38/100\n",
            "1/1 [==============================] - 0s 7ms/step - loss: 7.2300 - mae: 7.2300\n",
            "Epoch 39/100\n",
            "1/1 [==============================] - 0s 5ms/step - loss: 7.2244 - mae: 7.2244\n",
            "Epoch 40/100\n",
            "1/1 [==============================] - 0s 5ms/step - loss: 7.2188 - mae: 7.2188\n",
            "Epoch 41/100\n",
            "1/1 [==============================] - 0s 13ms/step - loss: 7.2131 - mae: 7.2131\n",
            "Epoch 42/100\n",
            "1/1 [==============================] - 0s 6ms/step - loss: 7.2075 - mae: 7.2075\n",
            "Epoch 43/100\n",
            "1/1 [==============================] - 0s 8ms/step - loss: 7.2019 - mae: 7.2019\n",
            "Epoch 44/100\n",
            "1/1 [==============================] - 0s 9ms/step - loss: 7.1962 - mae: 7.1962\n",
            "Epoch 45/100\n",
            "1/1 [==============================] - 0s 8ms/step - loss: 7.1906 - mae: 7.1906\n",
            "Epoch 46/100\n",
            "1/1 [==============================] - 0s 7ms/step - loss: 7.1850 - mae: 7.1850\n",
            "Epoch 47/100\n",
            "1/1 [==============================] - 0s 8ms/step - loss: 7.1794 - mae: 7.1794\n",
            "Epoch 48/100\n",
            "1/1 [==============================] - 0s 5ms/step - loss: 7.1738 - mae: 7.1738\n",
            "Epoch 49/100\n",
            "1/1 [==============================] - 0s 7ms/step - loss: 7.1681 - mae: 7.1681\n",
            "Epoch 50/100\n",
            "1/1 [==============================] - 0s 6ms/step - loss: 7.1625 - mae: 7.1625\n",
            "Epoch 51/100\n",
            "1/1 [==============================] - 0s 5ms/step - loss: 7.1569 - mae: 7.1569\n",
            "Epoch 52/100\n",
            "1/1 [==============================] - 0s 5ms/step - loss: 7.1512 - mae: 7.1512\n",
            "Epoch 53/100\n",
            "1/1 [==============================] - 0s 4ms/step - loss: 7.1456 - mae: 7.1456\n",
            "Epoch 54/100\n",
            "1/1 [==============================] - 0s 4ms/step - loss: 7.1400 - mae: 7.1400\n",
            "Epoch 55/100\n",
            "1/1 [==============================] - 0s 3ms/step - loss: 7.1344 - mae: 7.1344\n",
            "Epoch 56/100\n",
            "1/1 [==============================] - 0s 2ms/step - loss: 7.1287 - mae: 7.1287\n",
            "Epoch 57/100\n",
            "1/1 [==============================] - 0s 3ms/step - loss: 7.1231 - mae: 7.1231\n",
            "Epoch 58/100\n",
            "1/1 [==============================] - 0s 3ms/step - loss: 7.1175 - mae: 7.1175\n",
            "Epoch 59/100\n",
            "1/1 [==============================] - 0s 3ms/step - loss: 7.1119 - mae: 7.1119\n",
            "Epoch 60/100\n",
            "1/1 [==============================] - 0s 2ms/step - loss: 7.1063 - mae: 7.1063\n",
            "Epoch 61/100\n",
            "1/1 [==============================] - 0s 2ms/step - loss: 7.1006 - mae: 7.1006\n",
            "Epoch 62/100\n",
            "1/1 [==============================] - 0s 3ms/step - loss: 7.0950 - mae: 7.0950\n",
            "Epoch 63/100\n",
            "1/1 [==============================] - 0s 3ms/step - loss: 7.0894 - mae: 7.0894\n",
            "Epoch 64/100\n",
            "1/1 [==============================] - 0s 4ms/step - loss: 7.0838 - mae: 7.0838\n",
            "Epoch 65/100\n",
            "1/1 [==============================] - 0s 2ms/step - loss: 7.0781 - mae: 7.0781\n",
            "Epoch 66/100\n",
            "1/1 [==============================] - 0s 3ms/step - loss: 7.0725 - mae: 7.0725\n",
            "Epoch 67/100\n",
            "1/1 [==============================] - 0s 2ms/step - loss: 7.0669 - mae: 7.0669\n",
            "Epoch 68/100\n",
            "1/1 [==============================] - 0s 2ms/step - loss: 7.0613 - mae: 7.0613\n",
            "Epoch 69/100\n",
            "1/1 [==============================] - 0s 2ms/step - loss: 7.0556 - mae: 7.0556\n",
            "Epoch 70/100\n",
            "1/1 [==============================] - 0s 2ms/step - loss: 7.0500 - mae: 7.0500\n",
            "Epoch 71/100\n",
            "1/1 [==============================] - 0s 4ms/step - loss: 7.0444 - mae: 7.0444\n",
            "Epoch 72/100\n",
            "1/1 [==============================] - 0s 4ms/step - loss: 7.0388 - mae: 7.0388\n",
            "Epoch 73/100\n",
            "1/1 [==============================] - 0s 3ms/step - loss: 7.0331 - mae: 7.0331\n",
            "Epoch 74/100\n",
            "1/1 [==============================] - 0s 4ms/step - loss: 7.0275 - mae: 7.0275\n",
            "Epoch 75/100\n",
            "1/1 [==============================] - 0s 3ms/step - loss: 7.0219 - mae: 7.0219\n",
            "Epoch 76/100\n",
            "1/1 [==============================] - 0s 3ms/step - loss: 7.0163 - mae: 7.0163\n",
            "Epoch 77/100\n",
            "1/1 [==============================] - 0s 3ms/step - loss: 7.0106 - mae: 7.0106\n",
            "Epoch 78/100\n",
            "1/1 [==============================] - 0s 2ms/step - loss: 7.0050 - mae: 7.0050\n",
            "Epoch 79/100\n",
            "1/1 [==============================] - 0s 3ms/step - loss: 6.9994 - mae: 6.9994\n",
            "Epoch 80/100\n",
            "1/1 [==============================] - 0s 3ms/step - loss: 6.9938 - mae: 6.9938\n",
            "Epoch 81/100\n",
            "1/1 [==============================] - 0s 4ms/step - loss: 6.9881 - mae: 6.9881\n",
            "Epoch 82/100\n",
            "1/1 [==============================] - 0s 5ms/step - loss: 6.9825 - mae: 6.9825\n",
            "Epoch 83/100\n",
            "1/1 [==============================] - 0s 5ms/step - loss: 6.9769 - mae: 6.9769\n",
            "Epoch 84/100\n",
            "1/1 [==============================] - 0s 3ms/step - loss: 6.9713 - mae: 6.9713\n",
            "Epoch 85/100\n",
            "1/1 [==============================] - 0s 5ms/step - loss: 6.9656 - mae: 6.9656\n",
            "Epoch 86/100\n",
            "1/1 [==============================] - 0s 5ms/step - loss: 6.9600 - mae: 6.9600\n",
            "Epoch 87/100\n",
            "1/1 [==============================] - 0s 5ms/step - loss: 6.9544 - mae: 6.9544\n",
            "Epoch 88/100\n",
            "1/1 [==============================] - 0s 7ms/step - loss: 6.9488 - mae: 6.9488\n",
            "Epoch 89/100\n",
            "1/1 [==============================] - 0s 4ms/step - loss: 6.9431 - mae: 6.9431\n",
            "Epoch 90/100\n",
            "1/1 [==============================] - 0s 4ms/step - loss: 6.9375 - mae: 6.9375\n",
            "Epoch 91/100\n",
            "1/1 [==============================] - 0s 5ms/step - loss: 6.9319 - mae: 6.9319\n",
            "Epoch 92/100\n",
            "1/1 [==============================] - 0s 4ms/step - loss: 6.9263 - mae: 6.9263\n",
            "Epoch 93/100\n",
            "1/1 [==============================] - 0s 4ms/step - loss: 6.9206 - mae: 6.9206\n",
            "Epoch 94/100\n",
            "1/1 [==============================] - 0s 6ms/step - loss: 6.9150 - mae: 6.9150\n",
            "Epoch 95/100\n",
            "1/1 [==============================] - 0s 7ms/step - loss: 6.9094 - mae: 6.9094\n",
            "Epoch 96/100\n",
            "1/1 [==============================] - 0s 6ms/step - loss: 6.9038 - mae: 6.9038\n",
            "Epoch 97/100\n",
            "1/1 [==============================] - 0s 6ms/step - loss: 6.8981 - mae: 6.8981\n",
            "Epoch 98/100\n",
            "1/1 [==============================] - 0s 6ms/step - loss: 6.8925 - mae: 6.8925\n",
            "Epoch 99/100\n",
            "1/1 [==============================] - 0s 6ms/step - loss: 6.8869 - mae: 6.8869\n",
            "Epoch 100/100\n",
            "1/1 [==============================] - 0s 9ms/step - loss: 6.8813 - mae: 6.8813\n"
          ]
        },
        {
          "output_type": "execute_result",
          "data": {
            "text/plain": [
              "<keras.callbacks.History at 0x26f6879e0a0>"
            ]
          },
          "metadata": {},
          "execution_count": 14
        }
      ]
    },
    {
      "cell_type": "code",
      "source": [
        "# Remind ourselves of the data\n",
        "X, y"
      ],
      "metadata": {
        "colab": {
          "base_uri": "https://localhost:8080/"
        },
        "id": "lGdN1CJI7a8R",
        "outputId": "c44f514c-7182-43f3-fa15-be0725313ecd"
      },
      "id": "lGdN1CJI7a8R",
      "execution_count": 15,
      "outputs": [
        {
          "output_type": "execute_result",
          "data": {
            "text/plain": [
              "(<tf.Tensor: shape=(8,), dtype=float32, numpy=array([-7., -4., -1.,  2.,  5.,  8., 11., 14.], dtype=float32)>,\n",
              " <tf.Tensor: shape=(8,), dtype=float32, numpy=array([ 3.,  6.,  9., 12., 15., 18., 21., 24.], dtype=float32)>)"
            ]
          },
          "metadata": {},
          "execution_count": 15
        }
      ]
    },
    {
      "cell_type": "code",
      "source": [
        "# Predict using the updated model\n",
        "model.predict([[17.0]])"
      ],
      "metadata": {
        "colab": {
          "base_uri": "https://localhost:8080/"
        },
        "id": "rdpa4Zy47kNa",
        "outputId": "f4ed1a8d-b03d-4635-ea81-b57871869744"
      },
      "id": "rdpa4Zy47kNa",
      "execution_count": 16,
      "outputs": [
        {
          "output_type": "execute_result",
          "data": {
            "text/plain": [
              "array([[30.158512]], dtype=float32)"
            ]
          },
          "metadata": {},
          "execution_count": 16
        }
      ]
    },
    {
      "cell_type": "code",
      "source": [
        "# Rebuilding the model, again!\n",
        "# Set random seed\n",
        "tf.random.set_seed(42)\n",
        "\n",
        "# Create the model\n",
        "model = tf.keras.Sequential([\n",
        "    tf.keras.layers.Dense(128, activation='relu'),\n",
        "    tf.keras.layers.Dense(1)\n",
        "])\n",
        "\n",
        "# Compile the model\n",
        "model.compile(loss=tf.keras.losses.mae,\n",
        "              optimizer=tf.keras.optimizers.SGD(),\n",
        "              metrics=[\"mae\"])\n",
        "\n",
        "# Fit the model, again for 100 epochs\n",
        "model.fit(tf.expand_dims(X, axis=-1), y, epochs=100)"
      ],
      "metadata": {
        "colab": {
          "base_uri": "https://localhost:8080/"
        },
        "id": "cQq_o2s_7rEQ",
        "outputId": "c57bd4de-cea2-4224-c06d-2d2707fabad2"
      },
      "id": "cQq_o2s_7rEQ",
      "execution_count": 17,
      "outputs": [
        {
          "output_type": "stream",
          "name": "stdout",
          "text": [
            "Epoch 1/100\n",
            "1/1 [==============================] - 0s 302ms/step - loss: 12.3880 - mae: 12.3880\n",
            "Epoch 2/100\n",
            "1/1 [==============================] - 0s 3ms/step - loss: 11.8471 - mae: 11.8471\n",
            "Epoch 3/100\n",
            "1/1 [==============================] - 0s 3ms/step - loss: 11.2973 - mae: 11.2973\n",
            "Epoch 4/100\n",
            "1/1 [==============================] - 0s 3ms/step - loss: 10.7332 - mae: 10.7332\n",
            "Epoch 5/100\n",
            "1/1 [==============================] - 0s 4ms/step - loss: 10.1467 - mae: 10.1467\n",
            "Epoch 6/100\n",
            "1/1 [==============================] - 0s 5ms/step - loss: 9.5323 - mae: 9.5323\n",
            "Epoch 7/100\n",
            "1/1 [==============================] - 0s 3ms/step - loss: 8.8876 - mae: 8.8876\n",
            "Epoch 8/100\n",
            "1/1 [==============================] - 0s 3ms/step - loss: 8.2074 - mae: 8.2074\n",
            "Epoch 9/100\n",
            "1/1 [==============================] - 0s 3ms/step - loss: 7.4906 - mae: 7.4906\n",
            "Epoch 10/100\n",
            "1/1 [==============================] - 0s 2ms/step - loss: 6.7282 - mae: 6.7282\n",
            "Epoch 11/100\n",
            "1/1 [==============================] - 0s 3ms/step - loss: 5.9081 - mae: 5.9081\n",
            "Epoch 12/100\n",
            "1/1 [==============================] - 0s 2ms/step - loss: 5.0183 - mae: 5.0183\n",
            "Epoch 13/100\n",
            "1/1 [==============================] - 0s 2ms/step - loss: 4.2233 - mae: 4.2233\n",
            "Epoch 14/100\n",
            "1/1 [==============================] - 0s 3ms/step - loss: 4.0838 - mae: 4.0838\n",
            "Epoch 15/100\n",
            "1/1 [==============================] - 0s 4ms/step - loss: 3.9412 - mae: 3.9412\n",
            "Epoch 16/100\n",
            "1/1 [==============================] - 0s 3ms/step - loss: 3.9555 - mae: 3.9555\n",
            "Epoch 17/100\n",
            "1/1 [==============================] - 0s 3ms/step - loss: 3.9105 - mae: 3.9105\n",
            "Epoch 18/100\n",
            "1/1 [==============================] - 0s 3ms/step - loss: 3.9626 - mae: 3.9626\n",
            "Epoch 19/100\n",
            "1/1 [==============================] - 0s 3ms/step - loss: 3.8955 - mae: 3.8955\n",
            "Epoch 20/100\n",
            "1/1 [==============================] - 0s 4ms/step - loss: 3.9582 - mae: 3.9582\n",
            "Epoch 21/100\n",
            "1/1 [==============================] - 0s 4ms/step - loss: 3.9025 - mae: 3.9025\n",
            "Epoch 22/100\n",
            "1/1 [==============================] - 0s 4ms/step - loss: 3.9354 - mae: 3.9354\n",
            "Epoch 23/100\n",
            "1/1 [==============================] - 0s 5ms/step - loss: 3.9168 - mae: 3.9168\n",
            "Epoch 24/100\n",
            "1/1 [==============================] - 0s 4ms/step - loss: 3.9141 - mae: 3.9141\n",
            "Epoch 25/100\n",
            "1/1 [==============================] - 0s 4ms/step - loss: 3.9240 - mae: 3.9240\n",
            "Epoch 26/100\n",
            "1/1 [==============================] - 0s 5ms/step - loss: 3.8884 - mae: 3.8884\n",
            "Epoch 27/100\n",
            "1/1 [==============================] - 0s 3ms/step - loss: 3.9312 - mae: 3.9312\n",
            "Epoch 28/100\n",
            "1/1 [==============================] - 0s 4ms/step - loss: 3.8646 - mae: 3.8646\n",
            "Epoch 29/100\n",
            "1/1 [==============================] - 0s 5ms/step - loss: 3.9357 - mae: 3.9357\n",
            "Epoch 30/100\n",
            "1/1 [==============================] - 0s 5ms/step - loss: 3.8717 - mae: 3.8717\n",
            "Epoch 31/100\n",
            "1/1 [==============================] - 0s 4ms/step - loss: 3.9169 - mae: 3.9169\n",
            "Epoch 32/100\n",
            "1/1 [==============================] - 0s 3ms/step - loss: 3.8862 - mae: 3.8862\n",
            "Epoch 33/100\n",
            "1/1 [==============================] - 0s 4ms/step - loss: 3.8910 - mae: 3.8910\n",
            "Epoch 34/100\n",
            "1/1 [==============================] - 0s 7ms/step - loss: 3.8936 - mae: 3.8936\n",
            "Epoch 35/100\n",
            "1/1 [==============================] - 0s 7ms/step - loss: 3.8651 - mae: 3.8651\n",
            "Epoch 36/100\n",
            "1/1 [==============================] - 0s 14ms/step - loss: 3.9010 - mae: 3.9010\n",
            "Epoch 37/100\n",
            "1/1 [==============================] - 0s 9ms/step - loss: 3.8390 - mae: 3.8390\n",
            "Epoch 38/100\n",
            "1/1 [==============================] - 0s 7ms/step - loss: 3.9086 - mae: 3.9086\n",
            "Epoch 39/100\n",
            "1/1 [==============================] - 0s 6ms/step - loss: 3.8457 - mae: 3.8457\n",
            "Epoch 40/100\n",
            "1/1 [==============================] - 0s 5ms/step - loss: 3.8927 - mae: 3.8927\n",
            "Epoch 41/100\n",
            "1/1 [==============================] - 0s 6ms/step - loss: 3.8568 - mae: 3.8568\n",
            "Epoch 42/100\n",
            "1/1 [==============================] - 0s 6ms/step - loss: 3.8667 - mae: 3.8667\n",
            "Epoch 43/100\n",
            "1/1 [==============================] - 0s 5ms/step - loss: 3.8643 - mae: 3.8643\n",
            "Epoch 44/100\n",
            "1/1 [==============================] - 0s 6ms/step - loss: 3.8405 - mae: 3.8405\n",
            "Epoch 45/100\n",
            "1/1 [==============================] - 0s 4ms/step - loss: 3.8720 - mae: 3.8720\n",
            "Epoch 46/100\n",
            "1/1 [==============================] - 0s 5ms/step - loss: 3.8142 - mae: 3.8142\n",
            "Epoch 47/100\n",
            "1/1 [==============================] - 0s 7ms/step - loss: 3.8801 - mae: 3.8801\n",
            "Epoch 48/100\n",
            "1/1 [==============================] - 0s 4ms/step - loss: 3.8208 - mae: 3.8208\n",
            "Epoch 49/100\n",
            "1/1 [==============================] - 0s 5ms/step - loss: 3.8674 - mae: 3.8674\n",
            "Epoch 50/100\n",
            "1/1 [==============================] - 0s 4ms/step - loss: 3.8284 - mae: 3.8284\n",
            "Epoch 51/100\n",
            "1/1 [==============================] - 0s 4ms/step - loss: 3.8411 - mae: 3.8411\n",
            "Epoch 52/100\n",
            "1/1 [==============================] - 0s 4ms/step - loss: 3.8361 - mae: 3.8361\n",
            "Epoch 53/100\n",
            "1/1 [==============================] - 0s 5ms/step - loss: 3.8146 - mae: 3.8146\n",
            "Epoch 54/100\n",
            "1/1 [==============================] - 0s 3ms/step - loss: 3.8440 - mae: 3.8440\n",
            "Epoch 55/100\n",
            "1/1 [==============================] - 0s 4ms/step - loss: 3.7880 - mae: 3.7880\n",
            "Epoch 56/100\n",
            "1/1 [==============================] - 0s 4ms/step - loss: 3.8562 - mae: 3.8562\n",
            "Epoch 57/100\n",
            "1/1 [==============================] - 0s 4ms/step - loss: 3.7933 - mae: 3.7933\n",
            "Epoch 58/100\n",
            "1/1 [==============================] - 0s 4ms/step - loss: 3.8408 - mae: 3.8408\n",
            "Epoch 59/100\n",
            "1/1 [==============================] - 0s 3ms/step - loss: 3.8011 - mae: 3.8011\n",
            "Epoch 60/100\n",
            "1/1 [==============================] - 0s 4ms/step - loss: 3.8142 - mae: 3.8142\n",
            "Epoch 61/100\n",
            "1/1 [==============================] - 0s 5ms/step - loss: 3.8091 - mae: 3.8091\n",
            "Epoch 62/100\n",
            "1/1 [==============================] - 0s 3ms/step - loss: 3.7874 - mae: 3.7874\n",
            "Epoch 63/100\n",
            "1/1 [==============================] - 0s 4ms/step - loss: 3.8171 - mae: 3.8171\n",
            "Epoch 64/100\n",
            "1/1 [==============================] - 0s 4ms/step - loss: 3.7618 - mae: 3.7618\n",
            "Epoch 65/100\n",
            "1/1 [==============================] - 0s 4ms/step - loss: 3.8325 - mae: 3.8325\n",
            "Epoch 66/100\n",
            "1/1 [==============================] - 0s 4ms/step - loss: 3.7669 - mae: 3.7669\n",
            "Epoch 67/100\n",
            "1/1 [==============================] - 0s 4ms/step - loss: 3.8128 - mae: 3.8128\n",
            "Epoch 68/100\n",
            "1/1 [==============================] - 0s 5ms/step - loss: 3.7749 - mae: 3.7749\n",
            "Epoch 69/100\n",
            "1/1 [==============================] - 0s 4ms/step - loss: 3.7860 - mae: 3.7860\n",
            "Epoch 70/100\n",
            "1/1 [==============================] - 0s 6ms/step - loss: 3.7831 - mae: 3.7831\n",
            "Epoch 71/100\n",
            "1/1 [==============================] - 0s 5ms/step - loss: 3.7589 - mae: 3.7589\n",
            "Epoch 72/100\n",
            "1/1 [==============================] - 0s 5ms/step - loss: 3.7913 - mae: 3.7913\n",
            "Epoch 73/100\n",
            "1/1 [==============================] - 0s 5ms/step - loss: 3.7366 - mae: 3.7366\n",
            "Epoch 74/100\n",
            "1/1 [==============================] - 0s 4ms/step - loss: 3.8069 - mae: 3.8069\n",
            "Epoch 75/100\n",
            "1/1 [==============================] - 0s 3ms/step - loss: 3.7415 - mae: 3.7415\n",
            "Epoch 76/100\n",
            "1/1 [==============================] - 0s 6ms/step - loss: 3.7837 - mae: 3.7837\n",
            "Epoch 77/100\n",
            "1/1 [==============================] - 0s 4ms/step - loss: 3.7497 - mae: 3.7497\n",
            "Epoch 78/100\n",
            "1/1 [==============================] - 0s 5ms/step - loss: 3.7565 - mae: 3.7565\n",
            "Epoch 79/100\n",
            "1/1 [==============================] - 0s 6ms/step - loss: 3.7580 - mae: 3.7580\n",
            "Epoch 80/100\n",
            "1/1 [==============================] - 0s 5ms/step - loss: 3.7292 - mae: 3.7292\n",
            "Epoch 81/100\n",
            "1/1 [==============================] - 0s 5ms/step - loss: 3.7677 - mae: 3.7677\n",
            "Epoch 82/100\n",
            "1/1 [==============================] - 0s 3ms/step - loss: 3.7088 - mae: 3.7088\n",
            "Epoch 83/100\n",
            "1/1 [==============================] - 0s 4ms/step - loss: 3.7806 - mae: 3.7806\n",
            "Epoch 84/100\n",
            "1/1 [==============================] - 0s 5ms/step - loss: 3.7171 - mae: 3.7171\n",
            "Epoch 85/100\n",
            "1/1 [==============================] - 0s 5ms/step - loss: 3.7532 - mae: 3.7532\n",
            "Epoch 86/100\n",
            "1/1 [==============================] - 0s 4ms/step - loss: 3.7255 - mae: 3.7255\n",
            "Epoch 87/100\n",
            "1/1 [==============================] - 0s 4ms/step - loss: 3.7257 - mae: 3.7257\n",
            "Epoch 88/100\n",
            "1/1 [==============================] - 0s 4ms/step - loss: 3.7341 - mae: 3.7341\n",
            "Epoch 89/100\n",
            "1/1 [==============================] - 0s 4ms/step - loss: 3.6981 - mae: 3.6981\n",
            "Epoch 90/100\n",
            "1/1 [==============================] - 0s 4ms/step - loss: 3.7474 - mae: 3.7474\n",
            "Epoch 91/100\n",
            "1/1 [==============================] - 0s 5ms/step - loss: 3.6852 - mae: 3.6852\n",
            "Epoch 92/100\n",
            "1/1 [==============================] - 0s 5ms/step - loss: 3.7492 - mae: 3.7492\n",
            "Epoch 93/100\n",
            "1/1 [==============================] - 0s 4ms/step - loss: 3.6937 - mae: 3.6937\n",
            "Epoch 94/100\n",
            "1/1 [==============================] - 0s 4ms/step - loss: 3.7215 - mae: 3.7215\n",
            "Epoch 95/100\n",
            "1/1 [==============================] - 0s 4ms/step - loss: 3.7023 - mae: 3.7023\n",
            "Epoch 96/100\n",
            "1/1 [==============================] - 0s 3ms/step - loss: 3.6937 - mae: 3.6937\n",
            "Epoch 97/100\n",
            "1/1 [==============================] - 0s 4ms/step - loss: 3.7110 - mae: 3.7110\n",
            "Epoch 98/100\n",
            "1/1 [==============================] - 0s 4ms/step - loss: 3.6673 - mae: 3.6673\n",
            "Epoch 99/100\n",
            "1/1 [==============================] - 0s 3ms/step - loss: 3.7270 - mae: 3.7270\n",
            "Epoch 100/100\n",
            "1/1 [==============================] - 0s 2ms/step - loss: 3.6625 - mae: 3.6625\n"
          ]
        },
        {
          "output_type": "execute_result",
          "data": {
            "text/plain": [
              "<keras.callbacks.History at 0x26f69af3ee0>"
            ]
          },
          "metadata": {},
          "execution_count": 17
        }
      ]
    },
    {
      "cell_type": "code",
      "source": [
        "# Now predict the results\n",
        "model.predict([[17.]])"
      ],
      "metadata": {
        "colab": {
          "base_uri": "https://localhost:8080/"
        },
        "id": "75Egx3x588My",
        "outputId": "f48296ff-2cb6-4ad4-e869-04226ec26c1d"
      },
      "id": "75Egx3x588My",
      "execution_count": 18,
      "outputs": [
        {
          "output_type": "execute_result",
          "data": {
            "text/plain": [
              "array([[31.175186]], dtype=float32)"
            ]
          },
          "metadata": {},
          "execution_count": 18
        }
      ]
    },
    {
      "cell_type": "code",
      "source": [
        "# Rebuild the model, till you drop (just kidding);)!\n",
        "model = tf.keras.Sequential([\n",
        "    tf.keras.layers.Dense(128, activation=None),\n",
        "    tf.keras.layers.Dense(1)\n",
        "])\n",
        "\n",
        "model.compile(loss=tf.keras.losses.mae,\n",
        "              optimizer=tf.keras.optimizers.Adam(learning_rate=0.01),\n",
        "              metrics=[\"mae\"])\n",
        "\n",
        "model.fit(tf.expand_dims(X, axis=-1), y, epochs=100)"
      ],
      "metadata": {
        "colab": {
          "base_uri": "https://localhost:8080/"
        },
        "id": "YxIjjqgY9MtJ",
        "outputId": "39be2abc-dbef-4ffa-8860-36b1786bb578"
      },
      "id": "YxIjjqgY9MtJ",
      "execution_count": 19,
      "outputs": [
        {
          "output_type": "stream",
          "name": "stdout",
          "text": [
            "Epoch 1/100\n",
            "1/1 [==============================] - 0s 233ms/step - loss: 12.0406 - mae: 12.0406\n",
            "Epoch 2/100\n",
            "1/1 [==============================] - 0s 4ms/step - loss: 10.9698 - mae: 10.9698\n",
            "Epoch 3/100\n",
            "1/1 [==============================] - 0s 3ms/step - loss: 9.8715 - mae: 9.8715\n",
            "Epoch 4/100\n",
            "1/1 [==============================] - 0s 2ms/step - loss: 8.7363 - mae: 8.7363\n",
            "Epoch 5/100\n",
            "1/1 [==============================] - 0s 4ms/step - loss: 7.5533 - mae: 7.5533\n",
            "Epoch 6/100\n",
            "1/1 [==============================] - 0s 3ms/step - loss: 6.9063 - mae: 6.9063\n",
            "Epoch 7/100\n",
            "1/1 [==============================] - 0s 4ms/step - loss: 7.5343 - mae: 7.5343\n",
            "Epoch 8/100\n",
            "1/1 [==============================] - 0s 3ms/step - loss: 8.2001 - mae: 8.2001\n",
            "Epoch 9/100\n",
            "1/1 [==============================] - 0s 3ms/step - loss: 8.2804 - mae: 8.2804\n",
            "Epoch 10/100\n",
            "1/1 [==============================] - 0s 3ms/step - loss: 7.9694 - mae: 7.9694\n",
            "Epoch 11/100\n",
            "1/1 [==============================] - 0s 3ms/step - loss: 7.4073 - mae: 7.4073\n",
            "Epoch 12/100\n",
            "1/1 [==============================] - 0s 3ms/step - loss: 6.8426 - mae: 6.8426\n",
            "Epoch 13/100\n",
            "1/1 [==============================] - 0s 3ms/step - loss: 6.3778 - mae: 6.3778\n",
            "Epoch 14/100\n",
            "1/1 [==============================] - 0s 3ms/step - loss: 6.1649 - mae: 6.1649\n",
            "Epoch 15/100\n",
            "1/1 [==============================] - 0s 4ms/step - loss: 6.3273 - mae: 6.3273\n",
            "Epoch 16/100\n",
            "1/1 [==============================] - 0s 3ms/step - loss: 6.5009 - mae: 6.5009\n",
            "Epoch 17/100\n",
            "1/1 [==============================] - 0s 3ms/step - loss: 6.4971 - mae: 6.4971\n",
            "Epoch 18/100\n",
            "1/1 [==============================] - 0s 3ms/step - loss: 6.3435 - mae: 6.3435\n",
            "Epoch 19/100\n",
            "1/1 [==============================] - 0s 3ms/step - loss: 6.0579 - mae: 6.0579\n",
            "Epoch 20/100\n",
            "1/1 [==============================] - 0s 4ms/step - loss: 5.6517 - mae: 5.6517\n",
            "Epoch 21/100\n",
            "1/1 [==============================] - 0s 4ms/step - loss: 5.3497 - mae: 5.3497\n",
            "Epoch 22/100\n",
            "1/1 [==============================] - 0s 3ms/step - loss: 5.2396 - mae: 5.2396\n",
            "Epoch 23/100\n",
            "1/1 [==============================] - 0s 4ms/step - loss: 5.2658 - mae: 5.2658\n",
            "Epoch 24/100\n",
            "1/1 [==============================] - 0s 3ms/step - loss: 5.2219 - mae: 5.2219\n",
            "Epoch 25/100\n",
            "1/1 [==============================] - 0s 5ms/step - loss: 5.1129 - mae: 5.1129\n",
            "Epoch 26/100\n",
            "1/1 [==============================] - 0s 4ms/step - loss: 4.9435 - mae: 4.9435\n",
            "Epoch 27/100\n",
            "1/1 [==============================] - 0s 4ms/step - loss: 4.7187 - mae: 4.7187\n",
            "Epoch 28/100\n",
            "1/1 [==============================] - 0s 4ms/step - loss: 4.4432 - mae: 4.4432\n",
            "Epoch 29/100\n",
            "1/1 [==============================] - 0s 4ms/step - loss: 4.1210 - mae: 4.1210\n",
            "Epoch 30/100\n",
            "1/1 [==============================] - 0s 5ms/step - loss: 3.9403 - mae: 3.9403\n",
            "Epoch 31/100\n",
            "1/1 [==============================] - 0s 4ms/step - loss: 3.9134 - mae: 3.9134\n",
            "Epoch 32/100\n",
            "1/1 [==============================] - 0s 4ms/step - loss: 3.8021 - mae: 3.8021\n",
            "Epoch 33/100\n",
            "1/1 [==============================] - 0s 3ms/step - loss: 3.5012 - mae: 3.5012\n",
            "Epoch 34/100\n",
            "1/1 [==============================] - 0s 4ms/step - loss: 3.0834 - mae: 3.0834\n",
            "Epoch 35/100\n",
            "1/1 [==============================] - 0s 3ms/step - loss: 2.8186 - mae: 2.8186\n",
            "Epoch 36/100\n",
            "1/1 [==============================] - 0s 3ms/step - loss: 2.6431 - mae: 2.6431\n",
            "Epoch 37/100\n",
            "1/1 [==============================] - 0s 4ms/step - loss: 2.3863 - mae: 2.3863\n",
            "Epoch 38/100\n",
            "1/1 [==============================] - 0s 5ms/step - loss: 2.0498 - mae: 2.0498\n",
            "Epoch 39/100\n",
            "1/1 [==============================] - 0s 3ms/step - loss: 1.6567 - mae: 1.6567\n",
            "Epoch 40/100\n",
            "1/1 [==============================] - 0s 3ms/step - loss: 1.3773 - mae: 1.3773\n",
            "Epoch 41/100\n",
            "1/1 [==============================] - 0s 4ms/step - loss: 0.9810 - mae: 0.9810\n",
            "Epoch 42/100\n",
            "1/1 [==============================] - 0s 4ms/step - loss: 0.6134 - mae: 0.6134\n",
            "Epoch 43/100\n",
            "1/1 [==============================] - 0s 5ms/step - loss: 0.2016 - mae: 0.2016\n",
            "Epoch 44/100\n",
            "1/1 [==============================] - 0s 5ms/step - loss: 0.2211 - mae: 0.2211\n",
            "Epoch 45/100\n",
            "1/1 [==============================] - 0s 4ms/step - loss: 0.6456 - mae: 0.6456\n",
            "Epoch 46/100\n",
            "1/1 [==============================] - 0s 4ms/step - loss: 0.7816 - mae: 0.7816\n",
            "Epoch 47/100\n",
            "1/1 [==============================] - 0s 5ms/step - loss: 1.0340 - mae: 1.0340\n",
            "Epoch 48/100\n",
            "1/1 [==============================] - 0s 5ms/step - loss: 1.0296 - mae: 1.0296\n",
            "Epoch 49/100\n",
            "1/1 [==============================] - 0s 5ms/step - loss: 1.1533 - mae: 1.1533\n",
            "Epoch 50/100\n",
            "1/1 [==============================] - 0s 5ms/step - loss: 1.0745 - mae: 1.0745\n",
            "Epoch 51/100\n",
            "1/1 [==============================] - 0s 5ms/step - loss: 0.9104 - mae: 0.9104\n",
            "Epoch 52/100\n",
            "1/1 [==============================] - 0s 3ms/step - loss: 0.8704 - mae: 0.8704\n",
            "Epoch 53/100\n",
            "1/1 [==============================] - 0s 5ms/step - loss: 0.5764 - mae: 0.5764\n",
            "Epoch 54/100\n",
            "1/1 [==============================] - 0s 5ms/step - loss: 0.4642 - mae: 0.4642\n",
            "Epoch 55/100\n",
            "1/1 [==============================] - 0s 4ms/step - loss: 0.2260 - mae: 0.2260\n",
            "Epoch 56/100\n",
            "1/1 [==============================] - 0s 5ms/step - loss: 0.2480 - mae: 0.2480\n",
            "Epoch 57/100\n",
            "1/1 [==============================] - 0s 4ms/step - loss: 0.4085 - mae: 0.4085\n",
            "Epoch 58/100\n",
            "1/1 [==============================] - 0s 6ms/step - loss: 0.5044 - mae: 0.5044\n",
            "Epoch 59/100\n",
            "1/1 [==============================] - 0s 4ms/step - loss: 0.5433 - mae: 0.5433\n",
            "Epoch 60/100\n",
            "1/1 [==============================] - 0s 3ms/step - loss: 0.5254 - mae: 0.5254\n",
            "Epoch 61/100\n",
            "1/1 [==============================] - 0s 3ms/step - loss: 0.5629 - mae: 0.5629\n",
            "Epoch 62/100\n",
            "1/1 [==============================] - 0s 4ms/step - loss: 0.4217 - mae: 0.4217\n",
            "Epoch 63/100\n",
            "1/1 [==============================] - 0s 5ms/step - loss: 0.3259 - mae: 0.3259\n",
            "Epoch 64/100\n",
            "1/1 [==============================] - 0s 4ms/step - loss: 0.1966 - mae: 0.1966\n",
            "Epoch 65/100\n",
            "1/1 [==============================] - 0s 4ms/step - loss: 0.1333 - mae: 0.1333\n",
            "Epoch 66/100\n",
            "1/1 [==============================] - 0s 4ms/step - loss: 0.2564 - mae: 0.2564\n",
            "Epoch 67/100\n",
            "1/1 [==============================] - 0s 5ms/step - loss: 0.2708 - mae: 0.2708\n",
            "Epoch 68/100\n",
            "1/1 [==============================] - 0s 4ms/step - loss: 0.3500 - mae: 0.3500\n",
            "Epoch 69/100\n",
            "1/1 [==============================] - 0s 3ms/step - loss: 0.3924 - mae: 0.3924\n",
            "Epoch 70/100\n",
            "1/1 [==============================] - 0s 4ms/step - loss: 0.2964 - mae: 0.2964\n",
            "Epoch 71/100\n",
            "1/1 [==============================] - 0s 5ms/step - loss: 0.2942 - mae: 0.2942\n",
            "Epoch 72/100\n",
            "1/1 [==============================] - 0s 4ms/step - loss: 0.1187 - mae: 0.1187\n",
            "Epoch 73/100\n",
            "1/1 [==============================] - 0s 4ms/step - loss: 0.3021 - mae: 0.3021\n",
            "Epoch 74/100\n",
            "1/1 [==============================] - 0s 3ms/step - loss: 0.3514 - mae: 0.3514\n",
            "Epoch 75/100\n",
            "1/1 [==============================] - 0s 3ms/step - loss: 0.2695 - mae: 0.2695\n",
            "Epoch 76/100\n",
            "1/1 [==============================] - 0s 4ms/step - loss: 0.3784 - mae: 0.3784\n",
            "Epoch 77/100\n",
            "1/1 [==============================] - 0s 4ms/step - loss: 0.2622 - mae: 0.2622\n",
            "Epoch 78/100\n",
            "1/1 [==============================] - 0s 3ms/step - loss: 0.3885 - mae: 0.3885\n",
            "Epoch 79/100\n",
            "1/1 [==============================] - 0s 3ms/step - loss: 0.4056 - mae: 0.4056\n",
            "Epoch 80/100\n",
            "1/1 [==============================] - 0s 3ms/step - loss: 0.0691 - mae: 0.0691\n",
            "Epoch 81/100\n",
            "1/1 [==============================] - 0s 3ms/step - loss: 0.6506 - mae: 0.6506\n",
            "Epoch 82/100\n",
            "1/1 [==============================] - 0s 3ms/step - loss: 0.8773 - mae: 0.8773\n",
            "Epoch 83/100\n",
            "1/1 [==============================] - 0s 3ms/step - loss: 0.6784 - mae: 0.6784\n",
            "Epoch 84/100\n",
            "1/1 [==============================] - 0s 3ms/step - loss: 0.2920 - mae: 0.2920\n",
            "Epoch 85/100\n",
            "1/1 [==============================] - 0s 3ms/step - loss: 0.7395 - mae: 0.7395\n",
            "Epoch 86/100\n",
            "1/1 [==============================] - 0s 3ms/step - loss: 1.0119 - mae: 1.0119\n",
            "Epoch 87/100\n",
            "1/1 [==============================] - 0s 3ms/step - loss: 0.8682 - mae: 0.8682\n",
            "Epoch 88/100\n",
            "1/1 [==============================] - 0s 3ms/step - loss: 0.3635 - mae: 0.3635\n",
            "Epoch 89/100\n",
            "1/1 [==============================] - 0s 4ms/step - loss: 0.4634 - mae: 0.4634\n",
            "Epoch 90/100\n",
            "1/1 [==============================] - 0s 3ms/step - loss: 0.8212 - mae: 0.8212\n",
            "Epoch 91/100\n",
            "1/1 [==============================] - 0s 3ms/step - loss: 0.7712 - mae: 0.7712\n",
            "Epoch 92/100\n",
            "1/1 [==============================] - 0s 4ms/step - loss: 0.3680 - mae: 0.3680\n",
            "Epoch 93/100\n",
            "1/1 [==============================] - 0s 3ms/step - loss: 0.3832 - mae: 0.3832\n",
            "Epoch 94/100\n",
            "1/1 [==============================] - 0s 3ms/step - loss: 0.6527 - mae: 0.6527\n",
            "Epoch 95/100\n",
            "1/1 [==============================] - 0s 3ms/step - loss: 0.5758 - mae: 0.5758\n",
            "Epoch 96/100\n",
            "1/1 [==============================] - 0s 4ms/step - loss: 0.1970 - mae: 0.1970\n",
            "Epoch 97/100\n",
            "1/1 [==============================] - 0s 3ms/step - loss: 0.4423 - mae: 0.4423\n",
            "Epoch 98/100\n",
            "1/1 [==============================] - 0s 3ms/step - loss: 0.6368 - mae: 0.6368\n",
            "Epoch 99/100\n",
            "1/1 [==============================] - 0s 2ms/step - loss: 0.4700 - mae: 0.4700\n",
            "Epoch 100/100\n",
            "1/1 [==============================] - 0s 3ms/step - loss: 0.1433 - mae: 0.1433\n"
          ]
        },
        {
          "output_type": "execute_result",
          "data": {
            "text/plain": [
              "<keras.callbacks.History at 0x26f76000fa0>"
            ]
          },
          "metadata": {},
          "execution_count": 19
        }
      ]
    },
    {
      "cell_type": "code",
      "source": [
        "# Now let's predict again\n",
        "model.predict([[17.]])"
      ],
      "metadata": {
        "colab": {
          "base_uri": "https://localhost:8080/"
        },
        "id": "JiJ_AJX3-KJV",
        "outputId": "e7cd0f0f-12a5-4326-d96f-cfff40cb6928"
      },
      "id": "JiJ_AJX3-KJV",
      "execution_count": 20,
      "outputs": [
        {
          "output_type": "execute_result",
          "data": {
            "text/plain": [
              "array([[25.978287]], dtype=float32)"
            ]
          },
          "metadata": {},
          "execution_count": 20
        }
      ]
    },
    {
      "cell_type": "markdown",
      "source": [
        "## Evaluating a model\n",
        "\n",
        "In practice, a typical workflow you go through when building neural networks\n",
        "\n",
        "```\n",
        "Build a model -> fit it -> Evaluate it -> tweak a model -> fit it -> evaluate it -> tweak a model -> fit it -> evaluate it ...\n",
        "```"
      ],
      "metadata": {
        "id": "b2miMI1Y-885"
      },
      "id": "b2miMI1Y-885"
    },
    {
      "cell_type": "markdown",
      "source": [
        "When it comes to evaluation... there are three words you should memorize:\n",
        "\n",
        "> \"Visualize, Visualize, Visualize\""
      ],
      "metadata": {
        "id": "PQiJncEtC97W"
      },
      "id": "PQiJncEtC97W"
    },
    {
      "cell_type": "code",
      "source": [
        "# Make a bigger dataset\n",
        "X = tf.range(-100, 100, 4)\n",
        "X"
      ],
      "metadata": {
        "colab": {
          "base_uri": "https://localhost:8080/"
        },
        "id": "bErZ_Re_DZor",
        "outputId": "6a6da232-c61f-4585-ce7c-4d8146ee65f4"
      },
      "id": "bErZ_Re_DZor",
      "execution_count": 21,
      "outputs": [
        {
          "output_type": "execute_result",
          "data": {
            "text/plain": [
              "<tf.Tensor: shape=(50,), dtype=int32, numpy=\n",
              "array([-100,  -96,  -92,  -88,  -84,  -80,  -76,  -72,  -68,  -64,  -60,\n",
              "        -56,  -52,  -48,  -44,  -40,  -36,  -32,  -28,  -24,  -20,  -16,\n",
              "        -12,   -8,   -4,    0,    4,    8,   12,   16,   20,   24,   28,\n",
              "         32,   36,   40,   44,   48,   52,   56,   60,   64,   68,   72,\n",
              "         76,   80,   84,   88,   92,   96])>"
            ]
          },
          "metadata": {},
          "execution_count": 21
        }
      ]
    },
    {
      "cell_type": "code",
      "source": [
        "# Make labels\n",
        "y = X + 10\n",
        "y"
      ],
      "metadata": {
        "colab": {
          "base_uri": "https://localhost:8080/"
        },
        "id": "YN1x91f2Dv0i",
        "outputId": "3dc0bd4c-c6ba-47f6-d2ae-d01e47f78073"
      },
      "id": "YN1x91f2Dv0i",
      "execution_count": 22,
      "outputs": [
        {
          "output_type": "execute_result",
          "data": {
            "text/plain": [
              "<tf.Tensor: shape=(50,), dtype=int32, numpy=\n",
              "array([-90, -86, -82, -78, -74, -70, -66, -62, -58, -54, -50, -46, -42,\n",
              "       -38, -34, -30, -26, -22, -18, -14, -10,  -6,  -2,   2,   6,  10,\n",
              "        14,  18,  22,  26,  30,  34,  38,  42,  46,  50,  54,  58,  62,\n",
              "        66,  70,  74,  78,  82,  86,  90,  94,  98, 102, 106])>"
            ]
          },
          "metadata": {},
          "execution_count": 22
        }
      ]
    },
    {
      "cell_type": "code",
      "source": [
        "# Visualize the data\n",
        "import matplotlib.pyplot as plt\n",
        "\n",
        "plt.scatter(X, y)"
      ],
      "metadata": {
        "colab": {
          "base_uri": "https://localhost:8080/",
          "height": 282
        },
        "id": "t5jQR3OkDyqD",
        "outputId": "b42c6713-b7e5-46ac-831b-f93bf1b126d0"
      },
      "id": "t5jQR3OkDyqD",
      "execution_count": 23,
      "outputs": [
        {
          "output_type": "execute_result",
          "data": {
            "text/plain": [
              "<matplotlib.collections.PathCollection at 0x26f7921b370>"
            ]
          },
          "metadata": {},
          "execution_count": 23
        },
        {
          "output_type": "display_data",
          "data": {
            "text/plain": [
              "<Figure size 432x288 with 1 Axes>"
            ],
            "image/png": "[encoded data removed]"
          },
          "metadata": {
            "needs_background": "light"
          }
        }
      ]
    },
    {
      "cell_type": "markdown",
      "source": [
        "## Split data into training/test set\n",
        "\n",
        "One of the other most common and important steps in a machine learning project is creating a training and test set (and when required, a validation set).\n",
        "\n",
        "Each set serves a specific purpose:\n",
        "* **Training set** - the model learns from this data, which is typically 70-80% of the total data available (like the course materials you study during the semester).\n",
        "* **Validation set** - the model gets tuned on this data, which is typically 10-15% of the total data available (like the practice exam you take before the final exam).\n",
        "* **Test set** - the model gets evaluated on this data to test what it has learned, it's typically 10-15% of the total data available (like the final exam you take at the end of the semester).\n",
        "\n",
        "For now, we'll just use a training and test set, this means we'll have a dataset for our model to learn on as well as be evaluated on.\n",
        "\n",
        "We can create them by splitting our `X` and `y` arrays.\n",
        "\n",
        "> 🔑 **Note:** When dealing with real-world data, this step is typically done right at the start of a project (the test set should always be kept separate from all other data). We want our model to learn on training data and then evaluate it on test data to get an indication of how well it **generalizes** to unseen examples."
      ],
      "metadata": {
        "id": "_3VBUTekD6Z_"
      },
      "id": "_3VBUTekD6Z_"
    },
    {
      "cell_type": "code",
      "source": [
        "# Check how many samples we have\n",
        "len(X)"
      ],
      "metadata": {
        "id": "Y8RWF2BhEIB7",
        "colab": {
          "base_uri": "https://localhost:8080/"
        },
        "outputId": "b895456a-0435-45d9-e2a3-c64653315b3a"
      },
      "id": "Y8RWF2BhEIB7",
      "execution_count": 24,
      "outputs": [
        {
          "output_type": "execute_result",
          "data": {
            "text/plain": [
              "50"
            ]
          },
          "metadata": {},
          "execution_count": 24
        }
      ]
    },
    {
      "cell_type": "code",
      "source": [
        "# Split data into train and test sets\n",
        "X_train = X[:40] # first 40 examples (80% of data)\n",
        "y_train = y[:40]\n",
        "\n",
        "X_test = X[40:] # last 10 examples (20% of data)\n",
        "y_test = y[40:]\n",
        "\n",
        "len(X_train), len(X_test)"
      ],
      "metadata": {
        "colab": {
          "base_uri": "https://localhost:8080/"
        },
        "id": "rv4vYmtAw-j3",
        "outputId": "42f5b3f4-8477-4d37-ddec-50b59a1ea3a1"
      },
      "id": "rv4vYmtAw-j3",
      "execution_count": 25,
      "outputs": [
        {
          "output_type": "execute_result",
          "data": {
            "text/plain": [
              "(40, 10)"
            ]
          },
          "metadata": {},
          "execution_count": 25
        }
      ]
    },
    {
      "cell_type": "markdown",
      "source": [
        "## Visualizing the data\n",
        "\n",
        "Now we've got our training and test data, it's a good idea to visualize it.\n",
        "\n",
        "Let's plot it with some nice colours to differentiate what's what."
      ],
      "metadata": {
        "id": "_6_z34_0xENv"
      },
      "id": "_6_z34_0xENv"
    },
    {
      "cell_type": "code",
      "source": [
        "plt.figure(figsize=(10, 7))\n",
        "# Plot training data in blue\n",
        "plt.scatter(X_train, y_train, c='b', label='Training data')\n",
        "# Plot test data in green\n",
        "plt.scatter(X_test, y_test, c='g', label='Testing data')\n",
        "# Show the legend\n",
        "plt.legend();"
      ],
      "metadata": {
        "colab": {
          "base_uri": "https://localhost:8080/",
          "height": 428
        },
        "id": "TG8hjKyVxBS_",
        "outputId": "0b859fa2-cfb0-4c80-f370-5a2e7b65e11b"
      },
      "id": "TG8hjKyVxBS_",
      "execution_count": 26,
      "outputs": [
        {
          "output_type": "display_data",
          "data": {
            "text/plain": [
              "<Figure size 720x504 with 1 Axes>"
            ],
            "image/png": "[encoded data removed]"
          },
          "metadata": {
            "needs_background": "light"
          }
        }
      ]
    },
    {
      "cell_type": "code",
      "source": [
        "# Set random seed\n",
        "tf.random.set_seed(42)\n",
        "\n",
        "# Create a model (same as above)\n",
        "model = tf.keras.Sequential([\n",
        "  tf.keras.layers.Dense(1)\n",
        "])\n",
        "\n",
        "# Compile model (same as above)\n",
        "model.compile(loss=tf.keras.losses.mae,\n",
        "              optimizer=tf.keras.optimizers.SGD(),\n",
        "              metrics=[\"mae\"])\n",
        "\n",
        "# Fit model (same as above)\n",
        "#model.fit(X_train, y_train, epochs=100) # commented out"
      ],
      "metadata": {
        "id": "LSJ4Dj4IxIHC"
      },
      "id": "LSJ4Dj4IxIHC",
      "execution_count": 27,
      "outputs": []
    },
    {
      "cell_type": "markdown",
      "source": [
        "## Visualizing the model\n",
        "\n",
        "After you've built a model, you might want to take a look at it (especially if you haven't built many before).\n",
        "\n",
        "You can take a look at the layers and shapes of your model by calling [`summary()`](https://www.tensorflow.org/api_docs/python/tf/keras/Model#summary) on it.\n",
        "\n",
        "> 🔑 **Note:** Visualizing a model is particularly helpful when you run into input and output shape mismatches."
      ],
      "metadata": {
        "id": "hzkLDbbqxPba"
      },
      "id": "hzkLDbbqxPba"
    },
    {
      "cell_type": "code",
      "source": [
        "# Doesn't work (model not fit/built)\n",
        "model.summary()"
      ],
      "metadata": {
        "colab": {
          "base_uri": "https://localhost:8080/",
          "height": 548
        },
        "id": "gJTO7PfSxU-e",
        "outputId": "6fd5c4c3-8358-449f-ab92-bf969bd88f44"
      },
      "id": "gJTO7PfSxU-e",
      "execution_count": 28,
      "outputs": [
        {
          "output_type": "error",
          "ename": "ValueError",
          "evalue": "ignored",
          "traceback": [
            "\u001b[1;31m---------------------------------------------------------------------------\u001b[0m",
            "\u001b[1;31mValueError\u001b[0m                                Traceback (most recent call last)",
            "Input \u001b[1;32mIn [28]\u001b[0m, in \u001b[0;36m<cell line: 2>\u001b[1;34m()\u001b[0m\n\u001b[0;32m      1\u001b[0m \u001b[38;5;66;03m# Doesn't work (model not fit/built)\u001b[39;00m\n\u001b[1;32m----> 2\u001b[0m \u001b[43mmodel\u001b[49m\u001b[38;5;241;43m.\u001b[39;49m\u001b[43msummary\u001b[49m\u001b[43m(\u001b[49m\u001b[43m)\u001b[49m\n",
            "File \u001b[1;32m~\\.conda\\envs\\venv\\lib\\site-packages\\keras\\engine\\training.py:2579\u001b[0m, in \u001b[0;36mModel.summary\u001b[1;34m(self, line_length, positions, print_fn, expand_nested)\u001b[0m\n\u001b[0;32m   2559\u001b[0m \u001b[38;5;124;03m\"\"\"Prints a string summary of the network.\u001b[39;00m\n\u001b[0;32m   2560\u001b[0m \n\u001b[0;32m   2561\u001b[0m \u001b[38;5;124;03mArgs:\u001b[39;00m\n\u001b[1;32m   (...)\u001b[0m\n\u001b[0;32m   2576\u001b[0m \u001b[38;5;124;03m    ValueError: if `summary()` is called before the model is built.\u001b[39;00m\n\u001b[0;32m   2577\u001b[0m \u001b[38;5;124;03m\"\"\"\u001b[39;00m\n\u001b[0;32m   2578\u001b[0m \u001b[38;5;28;01mif\u001b[39;00m \u001b[38;5;129;01mnot\u001b[39;00m \u001b[38;5;28mself\u001b[39m\u001b[38;5;241m.\u001b[39mbuilt:\n\u001b[1;32m-> 2579\u001b[0m   \u001b[38;5;28;01mraise\u001b[39;00m \u001b[38;5;167;01mValueError\u001b[39;00m(\n\u001b[0;32m   2580\u001b[0m       \u001b[38;5;124m'\u001b[39m\u001b[38;5;124mThis model has not yet been built. \u001b[39m\u001b[38;5;124m'\u001b[39m\n\u001b[0;32m   2581\u001b[0m       \u001b[38;5;124m'\u001b[39m\u001b[38;5;124mBuild the model first by calling `build()` or by calling \u001b[39m\u001b[38;5;124m'\u001b[39m\n\u001b[0;32m   2582\u001b[0m       \u001b[38;5;124m'\u001b[39m\u001b[38;5;124mthe model on a batch of data.\u001b[39m\u001b[38;5;124m'\u001b[39m)\n\u001b[0;32m   2583\u001b[0m layer_utils\u001b[38;5;241m.\u001b[39mprint_summary(\n\u001b[0;32m   2584\u001b[0m     \u001b[38;5;28mself\u001b[39m,\n\u001b[0;32m   2585\u001b[0m     line_length\u001b[38;5;241m=\u001b[39mline_length,\n\u001b[0;32m   2586\u001b[0m     positions\u001b[38;5;241m=\u001b[39mpositions,\n\u001b[0;32m   2587\u001b[0m     print_fn\u001b[38;5;241m=\u001b[39mprint_fn,\n\u001b[0;32m   2588\u001b[0m     expand_nested\u001b[38;5;241m=\u001b[39mexpand_nested)\n",
            "\u001b[1;31mValueError\u001b[0m: This model has not yet been built. Build the model first by calling `build()` or by calling the model on a batch of data."
          ]
        }
      ]
    },
    {
      "cell_type": "markdown",
      "source": [
        "Ahh, the cell above errors because we haven't fit our built our model.\n",
        "\n",
        "We also haven't told it what input shape it should be expecting.\n",
        "\n",
        "Remember above, how we discussed the input shape was just one number?\n",
        "\n",
        "We can let our model know the input shape of our data using the `input_shape` parameter to the first layer (usually if `input_shape` isn't defined, Keras tries to figure it out automatically)."
      ],
      "metadata": {
        "id": "cv25dDjyxZ-a"
      },
      "id": "cv25dDjyxZ-a"
    },
    {
      "cell_type": "code",
      "source": [
        "# Set random seed\n",
        "tf.random.set_seed(42)\n",
        "\n",
        "# Create a model (same as above)\n",
        "model = tf.keras.Sequential([\n",
        "  tf.keras.layers.Dense(1, input_shape=[1]) # define the input_shape to our model\n",
        "])\n",
        "\n",
        "# Compile model (same as above)\n",
        "model.compile(loss=tf.keras.losses.mae,\n",
        "              optimizer=tf.keras.optimizers.SGD(),\n",
        "              metrics=[\"mae\"])"
      ],
      "metadata": {
        "id": "9nQJPNdwxiub"
      },
      "id": "9nQJPNdwxiub",
      "execution_count": 29,
      "outputs": []
    },
    {
      "cell_type": "code",
      "source": [
        "# This will work aafter specifying the input shape\n",
        "model.summary()"
      ],
      "metadata": {
        "colab": {
          "base_uri": "https://localhost:8080/"
        },
        "id": "ZVCFlzG4xomT",
        "outputId": "102ed242-8f17-4e6a-9a31-a5e4bb7fa423"
      },
      "id": "ZVCFlzG4xomT",
      "execution_count": 30,
      "outputs": [
        {
          "output_type": "stream",
          "name": "stdout",
          "text": [
            "Model: \"sequential_5\"\n",
            "_________________________________________________________________\n",
            " Layer (type)                Output Shape              Param #   \n",
            "=================================================================\n",
            " dense_7 (Dense)             (None, 1)                 2         \n",
            "                                                                 \n",
            "=================================================================\n",
            "Total params: 2\n",
            "Trainable params: 2\n",
            "Non-trainable params: 0\n",
            "_________________________________________________________________\n"
          ]
        }
      ]
    },
    {
      "cell_type": "markdown",
      "source": [
        "Calling `summary()` on our model shows us the layers it contains, the output shape and the number of parameters.\n",
        "* **Total params** - total number of parameters in the model.\n",
        "* **Trainable parameters** - these are the parameters (patterns) the model can update as it trains.\n",
        "* **Non-trainable parameters** - these parameters aren't updated during training (this is typical when you bring in the already learned patterns from other models during transfer learning).\n",
        "\n",
        "> 📖 **Resource:** For a more in-depth overview of the trainable parameters within a layer, check out [MIT's introduction to deep learning video](https://youtu.be/njKP3FqW3Sk).\n",
        "\n",
        "> 🛠 **Exercise:** Try playing around with the number of hidden units in the `Dense` layer (e.g. `Dense(2)`, `Dense(3)`). How does this change the Total/Trainable params? Investigate what's causing the change."
      ],
      "metadata": {
        "id": "7F4KmEdRxvO6"
      },
      "id": "7F4KmEdRxvO6"
    },
    {
      "cell_type": "code",
      "source": [
        "# Fit the model to the training data\n",
        "model.fit(X_train, y_train, epochs=100, verbose=0) # verbose controls how much gets output"
      ],
      "metadata": {
        "colab": {
          "base_uri": "https://localhost:8080/"
        },
        "id": "5FyQkULjx04O",
        "outputId": "981d878d-9129-4a54-be75-ec7dea5b3e76"
      },
      "id": "5FyQkULjx04O",
      "execution_count": 31,
      "outputs": [
        {
          "output_type": "execute_result",
          "data": {
            "text/plain": [
              "<keras.callbacks.History at 0x270523ba670>"
            ]
          },
          "metadata": {},
          "execution_count": 31
        }
      ]
    },
    {
      "cell_type": "code",
      "source": [
        "from tensorflow.keras.utils import plot_model\n",
        "\n",
        "plot_model(model, show_shapes=True)"
      ],
      "metadata": {
        "colab": {
          "base_uri": "https://localhost:8080/",
          "height": 201
        },
        "id": "2z5gmNZNx5o-",
        "outputId": "d9738088-50f6-40bb-9773-39c28fe9407c"
      },
      "id": "2z5gmNZNx5o-",
      "execution_count": 32,
      "outputs": [
        {
          "output_type": "execute_result",
          "data": {
            "image/png": "[encoded data removed]",
            "text/plain": [
              "<IPython.core.display.Image object>"
            ]
          },
          "metadata": {},
          "execution_count": 32
        }
      ]
    },
    {
      "cell_type": "markdown",
      "source": [
        "## Visualizing the predictions\n",
        "\n",
        "Now we've got a trained model, let's visualize some predictions.\n",
        "\n",
        "To visualize predictions, it's always a good idea to plot them against the ground truth labels.\n",
        "\n",
        "Often you'll see this in the form of `y_test` vs. `y_pred` (ground truth vs. predictions).\n",
        "\n",
        "First, we'll make some predictions on the test data (`X_test`), remember the model has never seen the test data."
      ],
      "metadata": {
        "id": "kcLJxZDxyuNm"
      },
      "id": "kcLJxZDxyuNm"
    },
    {
      "cell_type": "code",
      "source": [
        "# Make predictions\n",
        "y_preds = model.predict(X_test)"
      ],
      "metadata": {
        "colab": {
          "base_uri": "https://localhost:8080/"
        },
        "id": "tgP-UvCHzwkd",
        "outputId": "4b17fc7d-90dd-4052-aedb-d264c779032b"
      },
      "id": "tgP-UvCHzwkd",
      "execution_count": 33,
      "outputs": [
        {
          "output_type": "stream",
          "name": "stdout",
          "text": [
            "WARNING:tensorflow:5 out of the last 5 calls to <function Model.make_predict_function.<locals>.predict_function at 0x000002708447D5E0> triggered tf.function retracing. Tracing is expensive and the excessive number of tracings could be due to (1) creating @tf.function repeatedly in a loop, (2) passing tensors with different shapes, (3) passing Python objects instead of tensors. For (1), please define your @tf.function outside of the loop. For (2), @tf.function has experimental_relax_shapes=True option that relaxes argument shapes that can avoid unnecessary retracing. For (3), please refer to https://www.tensorflow.org/guide/function#controlling_retracing and https://www.tensorflow.org/api_docs/python/tf/function for  more details.\n"
          ]
        }
      ]
    },
    {
      "cell_type": "code",
      "source": [
        "# View the predictions\n",
        "y_preds"
      ],
      "metadata": {
        "colab": {
          "base_uri": "https://localhost:8080/"
        },
        "id": "_z2DVMCcz0jk",
        "outputId": "2d2207ce-5601-4463-9aa7-190dfb66a912"
      },
      "id": "_z2DVMCcz0jk",
      "execution_count": 34,
      "outputs": [
        {
          "output_type": "execute_result",
          "data": {
            "text/plain": [
              "array([[53.57109 ],\n",
              "       [57.05633 ],\n",
              "       [60.541573],\n",
              "       [64.02681 ],\n",
              "       [67.512054],\n",
              "       [70.99729 ],\n",
              "       [74.48254 ],\n",
              "       [77.96777 ],\n",
              "       [81.45301 ],\n",
              "       [84.938255]], dtype=float32)"
            ]
          },
          "metadata": {},
          "execution_count": 34
        }
      ]
    },
    {
      "cell_type": "code",
      "source": [
        "def plot_predictions(train_data=X_train, \n",
        "                     train_labels=y_train, \n",
        "                     test_data=X_test, \n",
        "                     test_labels=y_test, \n",
        "                     predictions=y_preds):\n",
        "  \"\"\"\n",
        "  Plots training data, test data and compares predictions.\n",
        "  \"\"\"\n",
        "  plt.figure(figsize=(10, 7))\n",
        "  # Plot training data in blue\n",
        "  plt.scatter(train_data, train_labels, c=\"b\", label=\"Training data\")\n",
        "  # Plot test data in green\n",
        "  plt.scatter(test_data, test_labels, c=\"g\", label=\"Testing data\")\n",
        "  # Plot the predictions in red (predictions were made on the test data)\n",
        "  plt.scatter(test_data, predictions, c=\"r\", label=\"Predictions\")\n",
        "  # Show the legend\n",
        "  plt.legend();"
      ],
      "metadata": {
        "id": "ZrU0n7yJz3Zb"
      },
      "id": "ZrU0n7yJz3Zb",
      "execution_count": 35,
      "outputs": []
    },
    {
      "cell_type": "code",
      "source": [
        "plot_predictions(train_data=X_train,\n",
        "                 train_labels=y_train,\n",
        "                 test_data=X_test,\n",
        "                 test_labels=y_test,\n",
        "                 predictions=y_preds)"
      ],
      "metadata": {
        "colab": {
          "base_uri": "https://localhost:8080/",
          "height": 428
        },
        "id": "u2GwRTgaz9Cf",
        "outputId": "0202df2f-0cbb-432e-ad81-cd0cf9f111d5"
      },
      "id": "u2GwRTgaz9Cf",
      "execution_count": 36,
      "outputs": [
        {
          "output_type": "display_data",
          "data": {
            "text/plain": [
              "<Figure size 720x504 with 1 Axes>"
            ],
            "image/png": "[encoded data removed]"
          },
          "metadata": {
            "needs_background": "light"
          }
        }
      ]
    },
    {
      "cell_type": "code",
      "source": [
        "# Improving the model\n",
        "# Set random seed\n",
        "tf.random.set_seed(42)\n",
        "\n",
        "# Create a model (same as above)\n",
        "model = tf.keras.Sequential([\n",
        "  tf.keras.layers.Dense(10, input_shape=[1]),\n",
        "  tf.keras.layers.Dense(1) # define the input_shape to our model\n",
        "])\n",
        "\n",
        "# Compile model (same as above)\n",
        "model.compile(loss=tf.keras.losses.mae,\n",
        "              optimizer=tf.keras.optimizers.Adam(learning_rate=0.01),\n",
        "              metrics=[\"mae\"])\n",
        "\n",
        "# Fit the model\n",
        "model.fit(X_train, y_train, epochs=100)"
      ],
      "metadata": {
        "colab": {
          "base_uri": "https://localhost:8080/"
        },
        "id": "kvC3S88Jz_Sk",
        "outputId": "cf551901-fe54-4d78-ae56-4abfed6a7801"
      },
      "id": "kvC3S88Jz_Sk",
      "execution_count": 37,
      "outputs": [
        {
          "output_type": "stream",
          "name": "stdout",
          "text": [
            "Epoch 1/100\n",
            "2/2 [==============================] - 0s 4ms/step - loss: 24.7643 - mae: 24.7643\n",
            "Epoch 2/100\n",
            "2/2 [==============================] - 0s 2ms/step - loss: 19.0261 - mae: 19.0261\n",
            "Epoch 3/100\n",
            "2/2 [==============================] - 0s 3ms/step - loss: 13.5868 - mae: 13.5868\n",
            "Epoch 4/100\n",
            "2/2 [==============================] - 0s 4ms/step - loss: 8.8756 - mae: 8.8756\n",
            "Epoch 5/100\n",
            "2/2 [==============================] - 0s 3ms/step - loss: 8.6328 - mae: 8.6328\n",
            "Epoch 6/100\n",
            "2/2 [==============================] - 0s 2ms/step - loss: 10.8267 - mae: 10.8267\n",
            "Epoch 7/100\n",
            "2/2 [==============================] - 0s 2ms/step - loss: 11.7707 - mae: 11.7707\n",
            "Epoch 8/100\n",
            "2/2 [==============================] - 0s 3ms/step - loss: 11.8002 - mae: 11.8002\n",
            "Epoch 9/100\n",
            "2/2 [==============================] - 0s 3ms/step - loss: 11.1963 - mae: 11.1963\n",
            "Epoch 10/100\n",
            "2/2 [==============================] - 0s 4ms/step - loss: 10.0508 - mae: 10.0508\n",
            "Epoch 11/100\n",
            "2/2 [==============================] - 0s 3ms/step - loss: 8.4786 - mae: 8.4786\n",
            "Epoch 12/100\n",
            "2/2 [==============================] - 0s 3ms/step - loss: 7.3061 - mae: 7.3061\n",
            "Epoch 13/100\n",
            "2/2 [==============================] - 0s 3ms/step - loss: 7.9294 - mae: 7.9294\n",
            "Epoch 14/100\n",
            "2/2 [==============================] - 0s 3ms/step - loss: 8.2074 - mae: 8.2074\n",
            "Epoch 15/100\n",
            "2/2 [==============================] - 0s 3ms/step - loss: 7.7218 - mae: 7.7218\n",
            "Epoch 16/100\n",
            "2/2 [==============================] - 0s 3ms/step - loss: 7.1421 - mae: 7.1421\n",
            "Epoch 17/100\n",
            "2/2 [==============================] - 0s 3ms/step - loss: 6.9032 - mae: 6.9032\n",
            "Epoch 18/100\n",
            "2/2 [==============================] - 0s 2ms/step - loss: 7.1172 - mae: 7.1172\n",
            "Epoch 19/100\n",
            "2/2 [==============================] - 0s 3ms/step - loss: 6.8713 - mae: 6.8713\n",
            "Epoch 20/100\n",
            "2/2 [==============================] - 0s 3ms/step - loss: 6.6965 - mae: 6.6965\n",
            "Epoch 21/100\n",
            "2/2 [==============================] - 0s 3ms/step - loss: 6.6737 - mae: 6.6737\n",
            "Epoch 22/100\n",
            "2/2 [==============================] - 0s 3ms/step - loss: 6.5517 - mae: 6.5517\n",
            "Epoch 23/100\n",
            "2/2 [==============================] - 0s 3ms/step - loss: 6.5632 - mae: 6.5632\n",
            "Epoch 24/100\n",
            "2/2 [==============================] - 0s 3ms/step - loss: 6.5072 - mae: 6.5072\n",
            "Epoch 25/100\n",
            "2/2 [==============================] - 0s 4ms/step - loss: 6.3482 - mae: 6.3482\n",
            "Epoch 26/100\n",
            "2/2 [==============================] - 0s 2ms/step - loss: 6.2796 - mae: 6.2796\n",
            "Epoch 27/100\n",
            "2/2 [==============================] - 0s 3ms/step - loss: 6.2361 - mae: 6.2361\n",
            "Epoch 28/100\n",
            "2/2 [==============================] - 0s 3ms/step - loss: 6.1653 - mae: 6.1653\n",
            "Epoch 29/100\n",
            "2/2 [==============================] - 0s 3ms/step - loss: 6.0706 - mae: 6.0706\n",
            "Epoch 30/100\n",
            "2/2 [==============================] - 0s 2ms/step - loss: 6.0291 - mae: 6.0291\n",
            "Epoch 31/100\n",
            "2/2 [==============================] - 0s 2ms/step - loss: 5.9077 - mae: 5.9077\n",
            "Epoch 32/100\n",
            "2/2 [==============================] - 0s 4ms/step - loss: 5.9504 - mae: 5.9504\n",
            "Epoch 33/100\n",
            "2/2 [==============================] - 0s 3ms/step - loss: 6.0770 - mae: 6.0770\n",
            "Epoch 34/100\n",
            "2/2 [==============================] - 0s 3ms/step - loss: 5.9370 - mae: 5.9370\n",
            "Epoch 35/100\n",
            "2/2 [==============================] - 0s 3ms/step - loss: 5.7583 - mae: 5.7583\n",
            "Epoch 36/100\n",
            "2/2 [==============================] - 0s 3ms/step - loss: 5.6101 - mae: 5.6101\n",
            "Epoch 37/100\n",
            "2/2 [==============================] - 0s 3ms/step - loss: 5.5048 - mae: 5.5048\n",
            "Epoch 38/100\n",
            "2/2 [==============================] - 0s 3ms/step - loss: 5.5992 - mae: 5.5992\n",
            "Epoch 39/100\n",
            "2/2 [==============================] - 0s 3ms/step - loss: 5.5564 - mae: 5.5564\n",
            "Epoch 40/100\n",
            "2/2 [==============================] - 0s 3ms/step - loss: 5.3352 - mae: 5.3352\n",
            "Epoch 41/100\n",
            "2/2 [==============================] - 0s 4ms/step - loss: 5.1989 - mae: 5.1989\n",
            "Epoch 42/100\n",
            "2/2 [==============================] - 0s 3ms/step - loss: 5.3878 - mae: 5.3878\n",
            "Epoch 43/100\n",
            "2/2 [==============================] - 0s 2ms/step - loss: 5.1514 - mae: 5.1514\n",
            "Epoch 44/100\n",
            "2/2 [==============================] - 0s 3ms/step - loss: 4.9465 - mae: 4.9465\n",
            "Epoch 45/100\n",
            "2/2 [==============================] - 0s 4ms/step - loss: 5.0810 - mae: 5.0810\n",
            "Epoch 46/100\n",
            "2/2 [==============================] - 0s 4ms/step - loss: 5.0890 - mae: 5.0890\n",
            "Epoch 47/100\n",
            "2/2 [==============================] - 0s 3ms/step - loss: 4.8107 - mae: 4.8107\n",
            "Epoch 48/100\n",
            "2/2 [==============================] - 0s 3ms/step - loss: 4.6230 - mae: 4.6230\n",
            "Epoch 49/100\n",
            "2/2 [==============================] - 0s 4ms/step - loss: 4.6239 - mae: 4.6239\n",
            "Epoch 50/100\n",
            "2/2 [==============================] - 0s 3ms/step - loss: 4.4386 - mae: 4.4386\n",
            "Epoch 51/100\n",
            "2/2 [==============================] - 0s 4ms/step - loss: 4.5250 - mae: 4.5250\n",
            "Epoch 52/100\n",
            "2/2 [==============================] - 0s 3ms/step - loss: 4.3965 - mae: 4.3965\n",
            "Epoch 53/100\n",
            "2/2 [==============================] - 0s 3ms/step - loss: 4.2998 - mae: 4.2998\n",
            "Epoch 54/100\n",
            "2/2 [==============================] - 0s 3ms/step - loss: 4.1181 - mae: 4.1181\n",
            "Epoch 55/100\n",
            "2/2 [==============================] - 0s 3ms/step - loss: 4.1022 - mae: 4.1022\n",
            "Epoch 56/100\n",
            "2/2 [==============================] - 0s 3ms/step - loss: 3.8749 - mae: 3.8749\n",
            "Epoch 57/100\n",
            "2/2 [==============================] - 0s 2ms/step - loss: 3.8660 - mae: 3.8660\n",
            "Epoch 58/100\n",
            "2/2 [==============================] - 0s 3ms/step - loss: 3.7244 - mae: 3.7244\n",
            "Epoch 59/100\n",
            "2/2 [==============================] - 0s 3ms/step - loss: 3.6443 - mae: 3.6443\n",
            "Epoch 60/100\n",
            "2/2 [==============================] - 0s 2ms/step - loss: 3.5109 - mae: 3.5109\n",
            "Epoch 61/100\n",
            "2/2 [==============================] - 0s 3ms/step - loss: 3.4097 - mae: 3.4097\n",
            "Epoch 62/100\n",
            "2/2 [==============================] - 0s 2ms/step - loss: 3.3124 - mae: 3.3124\n",
            "Epoch 63/100\n",
            "2/2 [==============================] - 0s 3ms/step - loss: 3.2728 - mae: 3.2728\n",
            "Epoch 64/100\n",
            "2/2 [==============================] - 0s 3ms/step - loss: 3.1014 - mae: 3.1014\n",
            "Epoch 65/100\n",
            "2/2 [==============================] - 0s 3ms/step - loss: 2.9932 - mae: 2.9932\n",
            "Epoch 66/100\n",
            "2/2 [==============================] - 0s 3ms/step - loss: 2.8670 - mae: 2.8670\n",
            "Epoch 67/100\n",
            "2/2 [==============================] - 0s 3ms/step - loss: 2.8824 - mae: 2.8824\n",
            "Epoch 68/100\n",
            "2/2 [==============================] - 0s 3ms/step - loss: 2.6894 - mae: 2.6894\n",
            "Epoch 69/100\n",
            "2/2 [==============================] - 0s 3ms/step - loss: 2.5258 - mae: 2.5258\n",
            "Epoch 70/100\n",
            "2/2 [==============================] - 0s 3ms/step - loss: 2.5211 - mae: 2.5211\n",
            "Epoch 71/100\n",
            "2/2 [==============================] - 0s 3ms/step - loss: 2.2685 - mae: 2.2685\n",
            "Epoch 72/100\n",
            "2/2 [==============================] - 0s 3ms/step - loss: 2.3148 - mae: 2.3148\n",
            "Epoch 73/100\n",
            "2/2 [==============================] - 0s 2ms/step - loss: 2.1675 - mae: 2.1675\n",
            "Epoch 74/100\n",
            "2/2 [==============================] - 0s 3ms/step - loss: 1.9130 - mae: 1.9130\n",
            "Epoch 75/100\n",
            "2/2 [==============================] - 0s 4ms/step - loss: 2.2776 - mae: 2.2776\n",
            "Epoch 76/100\n",
            "2/2 [==============================] - 0s 2ms/step - loss: 1.9967 - mae: 1.9967\n",
            "Epoch 77/100\n",
            "2/2 [==============================] - 0s 3ms/step - loss: 1.6326 - mae: 1.6326\n",
            "Epoch 78/100\n",
            "2/2 [==============================] - 0s 3ms/step - loss: 1.5497 - mae: 1.5497\n",
            "Epoch 79/100\n",
            "2/2 [==============================] - 0s 2ms/step - loss: 1.5339 - mae: 1.5339\n",
            "Epoch 80/100\n",
            "2/2 [==============================] - 0s 2ms/step - loss: 1.2708 - mae: 1.2708\n",
            "Epoch 81/100\n",
            "2/2 [==============================] - 0s 3ms/step - loss: 1.2266 - mae: 1.2266\n",
            "Epoch 82/100\n",
            "2/2 [==============================] - 0s 2ms/step - loss: 0.8648 - mae: 0.8648\n",
            "Epoch 83/100\n",
            "2/2 [==============================] - 0s 2ms/step - loss: 0.6219 - mae: 0.6219\n",
            "Epoch 84/100\n",
            "2/2 [==============================] - 0s 2ms/step - loss: 0.5438 - mae: 0.5438\n",
            "Epoch 85/100\n",
            "2/2 [==============================] - 0s 3ms/step - loss: 0.8907 - mae: 0.8907\n",
            "Epoch 86/100\n",
            "2/2 [==============================] - 0s 3ms/step - loss: 0.4026 - mae: 0.4026\n",
            "Epoch 87/100\n",
            "2/2 [==============================] - 0s 3ms/step - loss: 0.7194 - mae: 0.7194\n",
            "Epoch 88/100\n",
            "2/2 [==============================] - 0s 3ms/step - loss: 1.3947 - mae: 1.3947\n",
            "Epoch 89/100\n",
            "2/2 [==============================] - 0s 2ms/step - loss: 1.4898 - mae: 1.4898\n",
            "Epoch 90/100\n",
            "2/2 [==============================] - 0s 2ms/step - loss: 0.9488 - mae: 0.9488\n",
            "Epoch 91/100\n",
            "2/2 [==============================] - 0s 3ms/step - loss: 1.2691 - mae: 1.2691\n",
            "Epoch 92/100\n",
            "2/2 [==============================] - 0s 2ms/step - loss: 0.9248 - mae: 0.9248\n",
            "Epoch 93/100\n",
            "2/2 [==============================] - 0s 2ms/step - loss: 1.1843 - mae: 1.1843\n",
            "Epoch 94/100\n",
            "2/2 [==============================] - 0s 2ms/step - loss: 0.8707 - mae: 0.8707\n",
            "Epoch 95/100\n",
            "2/2 [==============================] - 0s 3ms/step - loss: 0.8288 - mae: 0.8288\n",
            "Epoch 96/100\n",
            "2/2 [==============================] - 0s 3ms/step - loss: 1.2722 - mae: 1.2722\n",
            "Epoch 97/100\n",
            "2/2 [==============================] - 0s 2ms/step - loss: 0.9913 - mae: 0.9913\n",
            "Epoch 98/100\n",
            "2/2 [==============================] - 0s 2ms/step - loss: 1.0983 - mae: 1.0983\n",
            "Epoch 99/100\n",
            "2/2 [==============================] - 0s 3ms/step - loss: 0.8475 - mae: 0.8475\n",
            "Epoch 100/100\n",
            "2/2 [==============================] - 0s 3ms/step - loss: 1.3404 - mae: 1.3404\n"
          ]
        },
        {
          "output_type": "execute_result",
          "data": {
            "text/plain": [
              "<keras.callbacks.History at 0x27089c562e0>"
            ]
          },
          "metadata": {},
          "execution_count": 37
        }
      ]
    },
    {
      "cell_type": "code",
      "source": [
        "# Make predictions\n",
        "y_pred = model.predict(X_test)\n",
        "y_pred"
      ],
      "metadata": {
        "colab": {
          "base_uri": "https://localhost:8080/"
        },
        "id": "weReXxs61MpI",
        "outputId": "027a5adb-53ef-4754-d27b-07b748005ede"
      },
      "id": "weReXxs61MpI",
      "execution_count": 38,
      "outputs": [
        {
          "output_type": "stream",
          "name": "stdout",
          "text": [
            "WARNING:tensorflow:6 out of the last 6 calls to <function Model.make_predict_function.<locals>.predict_function at 0x000002708B2C7AF0> triggered tf.function retracing. Tracing is expensive and the excessive number of tracings could be due to (1) creating @tf.function repeatedly in a loop, (2) passing tensors with different shapes, (3) passing Python objects instead of tensors. For (1), please define your @tf.function outside of the loop. For (2), @tf.function has experimental_relax_shapes=True option that relaxes argument shapes that can avoid unnecessary retracing. For (3), please refer to https://www.tensorflow.org/guide/function#controlling_retracing and https://www.tensorflow.org/api_docs/python/tf/function for  more details.\n"
          ]
        },
        {
          "output_type": "execute_result",
          "data": {
            "text/plain": [
              "array([[ 72.42826 ],\n",
              "       [ 76.586716],\n",
              "       [ 80.74517 ],\n",
              "       [ 84.90363 ],\n",
              "       [ 89.062096],\n",
              "       [ 93.22056 ],\n",
              "       [ 97.37901 ],\n",
              "       [101.537476],\n",
              "       [105.69593 ],\n",
              "       [109.85439 ]], dtype=float32)"
            ]
          },
          "metadata": {},
          "execution_count": 38
        }
      ]
    },
    {
      "cell_type": "code",
      "source": [
        "plot_predictions(train_data=X_train,\n",
        "                 train_labels=y_train,\n",
        "                 test_data=X_test,\n",
        "                 test_labels=y_test,\n",
        "                 predictions=y_pred)"
      ],
      "metadata": {
        "colab": {
          "base_uri": "https://localhost:8080/",
          "height": 428
        },
        "id": "OiHj1ut-1Z6Y",
        "outputId": "8b049f30-3ccd-4f64-8a19-0d1a7187d8b4"
      },
      "id": "OiHj1ut-1Z6Y",
      "execution_count": 39,
      "outputs": [
        {
          "output_type": "display_data",
          "data": {
            "text/plain": [
              "<Figure size 720x504 with 1 Axes>"
            ],
            "image/png": "[encoded data removed]"
          },
          "metadata": {
            "needs_background": "light"
          }
        }
      ]
    },
    {
      "cell_type": "code",
      "source": [
        ""
      ],
      "metadata": {
        "id": "qTL1iN8918b5"
      },
      "id": "qTL1iN8918b5",
      "execution_count": null,
      "outputs": []
    }
  ],
  "metadata": {
    "kernelspec": {
      "display_name": "Python 3 (ipykernel)",
      "language": "python",
      "name": "python3"
    },
    "language_info": {
      "codemirror_mode": {
        "name": "ipython",
        "version": 3
      },
      "file_extension": ".py",
      "mimetype": "text/x-python",
      "name": "python",
      "nbconvert_exporter": "python",
      "pygments_lexer": "ipython3",
      "version": "3.8.10"
    },
    "colab": {
      "name": "01_neural_network_regression_with_tensorflow.ipynb",
      "provenance": [],
      "collapsed_sections": [],
      "include_colab_link": true
    }
  },
  "nbformat": 4,
  "nbformat_minor": 5
}